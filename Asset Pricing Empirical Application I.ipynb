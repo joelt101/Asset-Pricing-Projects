{
 "cells": [
  {
   "cell_type": "code",
   "execution_count": 75,
   "id": "efd95630-db03-4345-8ad1-5dd75bfd57a1",
   "metadata": {
    "tags": []
   },
   "outputs": [],
   "source": [
    "import pandas as pd\n",
    "import numpy as np\n",
    "import matplotlib.pyplot as plt\n",
    "import seaborn as sns\n",
    "import nbconvert\n",
    "import pandoc\n",
    "\n",
    "from pandas_datareader import fred\n",
    "from pandas_datareader.famafrench import FamaFrenchReader, get_available_datasets\n",
    "import yfinance as yf\n",
    "\n",
    "from statsmodels.graphics.tsaplots import plot_pacf, plot_acf\n",
    "import statsmodels.api as sm\n",
    "from statsmodels.regression.linear_model import OLS\n",
    "from statsmodels.tsa.arima.model import ARIMA\n",
    "from statsmodels.tsa.vector_ar.vecm import VECM\n",
    "\n",
    "from datetime import datetime\n",
    "%matplotlib inline\n",
    "\n",
    "import warnings\n",
    "warnings.filterwarnings(\"ignore\")"
   ]
  },
  {
   "cell_type": "code",
   "execution_count": 76,
   "id": "d3402608-6268-4043-8e04-a348940786eb",
   "metadata": {
    "tags": []
   },
   "outputs": [],
   "source": [
    "from statsmodels.tsa.stattools import adfuller\n",
    "import pandas as pd\n",
    "import numpy as np\n",
    "import matplotlib.pyplot as plt\n",
    "\n",
    "\n",
    "def adf_test_summary(ser):\n",
    "    # ADF H0: there is a unit root\n",
    "\n",
    "    specs = {'constant': 'c', 'constant trend': 'ct', 'constant ltend, qtrend': 'ctt', 'none': 'n'}\n",
    "    results = {}\n",
    "\n",
    "    for pretty, spec in specs.items():\n",
    "        adf, pval, ulag, nobs, cval, icb = adfuller(ser, regression=spec)\n",
    "        keys = ['adf-stat', 'p-value', '#lags', '#obs', *cval.keys(), 'inf crit']\n",
    "        res = [adf, pval, ulag, nobs, *cval.values(), icb]\n",
    "        results[pretty] = dict(zip(keys, res))\n",
    "\n",
    "    if ser.name is not None:\n",
    "        title = ser.name.upper()\n",
    "    else:\n",
    "        title = ''\n",
    "\n",
    "    print('-' * 77)\n",
    "    print(f'ADF Test {title}: H0 there is a unit root')\n",
    "    print('-' * 77)\n",
    "    print(pd.DataFrame(results).transpose().round(3).iloc[:, :-1])\n",
    "    print('\\n')\n",
    "\n",
    "    pass\n",
    "\n",
    "\n",
    "from io import StringIO\n",
    "import sys\n",
    "\n",
    "\n",
    "class Capturing(list):\n",
    "    def __enter__(self):\n",
    "        self._stdout = sys.stdout\n",
    "        sys.stdout = self._stringio = StringIO()\n",
    "        return self\n",
    "\n",
    "    def __exit__(self, *args):\n",
    "        self.extend(self._stringio.getvalue().splitlines())\n",
    "        del self._stringio\n",
    "        sys.stdout = self._stdout\n",
    "\n",
    "\n",
    "def plot_df(df, n_cols: int = 3, fig_size: tuple = (5, 2)):\n",
    "    n_cols = min(n_cols, df.shape[1])\n",
    "    rows = int(np.ceil(df.shape[1] / n_cols))\n",
    "\n",
    "    fig, axes = plt.subplots(rows, n_cols, figsize=(n_cols * fig_size[0], rows * fig_size[1]))\n",
    "    for i, ax in enumerate(axes.reshape(-1)):\n",
    "        if i > df.shape[1] - 1: continue\n",
    "        ax.plot(df.iloc[:, i].dropna())\n",
    "        ax.set_title(df.iloc[:, i].name)\n",
    "\n",
    "    plt.tight_layout()\n",
    "    return fig"
   ]
  },
  {
   "cell_type": "markdown",
   "id": "aea22170-9cf5-430b-b172-3c91c9b396d6",
   "metadata": {},
   "source": [
    "# Data Collection"
   ]
  },
  {
   "cell_type": "markdown",
   "id": "79a3341b-54be-468f-917b-185d3c9d9415",
   "metadata": {},
   "source": [
    "We chose a sample period of 2020 to the end of 2022. We use daily data for a recent period because we are interested in estimating the risk factors post-COVID. Many of the examples in the textbooks and literature available were conducted prior to the crisis and we wanted to do our estimations in virgin territory."
   ]
  },
  {
   "cell_type": "code",
   "execution_count": 77,
   "id": "9bf43740-1489-4edd-9d9e-eea82ca50e37",
   "metadata": {
    "tags": []
   },
   "outputs": [],
   "source": [
    "start, end = datetime(2020, 1, 1), datetime(2022, 12, 31)"
   ]
  },
  {
   "cell_type": "markdown",
   "id": "3e261777-ff3e-4b3b-ba90-0ce9b8c4a9b3",
   "metadata": {},
   "source": [
    "We use Kenneth French's data library to download daily data on the factors SMB (small minus big) and HML (high minus low book-to-market equity) as well as the risk-free rate RF and the return of the market portfolio minus the risk free rate (French, 2023). Kenneth French constructs the factors using six value weighted portfolios formed on size and book-to-market ratio.\n",
    "\n",
    "The Small Minus Big (SMB) is the average return on the three small portfolios minus the average return on the three big portfolios:\n",
    "$$\n",
    "SMB = \\frac{1}{3}(Small Value + Small Neutral + Small Growth) - \\frac{1}{3}(Big Value + Big Neutral + Big Growth)\n",
    "$$\n",
    "\n",
    "This factor reflects the outperformance of small companies relative to big companies. Small capitalisation stocks should, on average, have higher returns relative to larger capitalisation stocks to reflect the greater risk of smaller companies.\n",
    "\n",
    "The High Minus Low (HML) is the average return of the two value portfolios minus the average return of the two growth portfolios: \n",
    "$$\n",
    "HML = \\frac{1}{2}(Small Value + Big Value) - \\frac{1}{2}(Small Growth + Big Growth)\n",
    "$$\n",
    "\n",
    "The HML factor represents the outperformance of high book/market versus low book/market firms. This factor is designed to reflect the difference in returns between value stocks, which are those deemed to be undervalued based on their financial ratios, and growth stocks, which are those expected to grow at an above-average rate. Fama and French hypothesise that value stocks should exhibit higher rates of returns over a sample period to reflect their undervaluation. A positive HML indicates that value stocks have, on average, outperformed growth stocks.\n",
    "\n",
    "The factor $R_m - R_F$ is the excess return on the market and includes all of the New York Stock Exchange, AMEX and NASDAQ firms. This factor should reflect the risk premium of investing in a stock rather than a risk-free asset such as a government bond which would avoid market systematic risk."
   ]
  },
  {
   "cell_type": "code",
   "execution_count": 78,
   "id": "4baf2538-6564-4153-bcb2-2dc7aa7dd8ac",
   "metadata": {
    "tags": []
   },
   "outputs": [],
   "source": [
    "ff_factors = FamaFrenchReader('F-F_Research_Data_Factors_daily').read()[0]"
   ]
  },
  {
   "cell_type": "code",
   "execution_count": 79,
   "id": "5b8190a1-0ef3-4634-837f-63a62e8c3a2c",
   "metadata": {
    "tags": []
   },
   "outputs": [
    {
     "data": {
      "text/html": [
       "<div>\n",
       "<style scoped>\n",
       "    .dataframe tbody tr th:only-of-type {\n",
       "        vertical-align: middle;\n",
       "    }\n",
       "\n",
       "    .dataframe tbody tr th {\n",
       "        vertical-align: top;\n",
       "    }\n",
       "\n",
       "    .dataframe thead th {\n",
       "        text-align: right;\n",
       "    }\n",
       "</style>\n",
       "<table border=\"1\" class=\"dataframe\">\n",
       "  <thead>\n",
       "    <tr style=\"text-align: right;\">\n",
       "      <th></th>\n",
       "      <th>Mkt-RF</th>\n",
       "      <th>SMB</th>\n",
       "      <th>HML</th>\n",
       "      <th>RF</th>\n",
       "    </tr>\n",
       "    <tr>\n",
       "      <th>Date</th>\n",
       "      <th></th>\n",
       "      <th></th>\n",
       "      <th></th>\n",
       "      <th></th>\n",
       "    </tr>\n",
       "  </thead>\n",
       "  <tbody>\n",
       "    <tr>\n",
       "      <th>2018-11-28</th>\n",
       "      <td>2.42</td>\n",
       "      <td>0.45</td>\n",
       "      <td>-1.16</td>\n",
       "      <td>0.008</td>\n",
       "    </tr>\n",
       "    <tr>\n",
       "      <th>2018-11-29</th>\n",
       "      <td>-0.22</td>\n",
       "      <td>-0.10</td>\n",
       "      <td>-0.10</td>\n",
       "      <td>0.008</td>\n",
       "    </tr>\n",
       "    <tr>\n",
       "      <th>2018-11-30</th>\n",
       "      <td>0.78</td>\n",
       "      <td>-0.33</td>\n",
       "      <td>-0.43</td>\n",
       "      <td>0.008</td>\n",
       "    </tr>\n",
       "    <tr>\n",
       "      <th>2018-12-03</th>\n",
       "      <td>1.13</td>\n",
       "      <td>-0.05</td>\n",
       "      <td>-0.80</td>\n",
       "      <td>0.011</td>\n",
       "    </tr>\n",
       "    <tr>\n",
       "      <th>2018-12-04</th>\n",
       "      <td>-3.45</td>\n",
       "      <td>-0.97</td>\n",
       "      <td>-0.21</td>\n",
       "      <td>0.011</td>\n",
       "    </tr>\n",
       "    <tr>\n",
       "      <th>...</th>\n",
       "      <td>...</td>\n",
       "      <td>...</td>\n",
       "      <td>...</td>\n",
       "      <td>...</td>\n",
       "    </tr>\n",
       "    <tr>\n",
       "      <th>2023-09-25</th>\n",
       "      <td>0.39</td>\n",
       "      <td>-0.11</td>\n",
       "      <td>0.35</td>\n",
       "      <td>0.021</td>\n",
       "    </tr>\n",
       "    <tr>\n",
       "      <th>2023-09-26</th>\n",
       "      <td>-1.46</td>\n",
       "      <td>0.39</td>\n",
       "      <td>-0.50</td>\n",
       "      <td>0.021</td>\n",
       "    </tr>\n",
       "    <tr>\n",
       "      <th>2023-09-27</th>\n",
       "      <td>0.13</td>\n",
       "      <td>0.69</td>\n",
       "      <td>0.12</td>\n",
       "      <td>0.021</td>\n",
       "    </tr>\n",
       "    <tr>\n",
       "      <th>2023-09-28</th>\n",
       "      <td>0.65</td>\n",
       "      <td>0.16</td>\n",
       "      <td>0.03</td>\n",
       "      <td>0.021</td>\n",
       "    </tr>\n",
       "    <tr>\n",
       "      <th>2023-09-29</th>\n",
       "      <td>-0.27</td>\n",
       "      <td>-0.03</td>\n",
       "      <td>0.30</td>\n",
       "      <td>0.021</td>\n",
       "    </tr>\n",
       "  </tbody>\n",
       "</table>\n",
       "<p>1217 rows × 4 columns</p>\n",
       "</div>"
      ],
      "text/plain": [
       "            Mkt-RF   SMB   HML     RF\n",
       "Date                                 \n",
       "2018-11-28    2.42  0.45 -1.16  0.008\n",
       "2018-11-29   -0.22 -0.10 -0.10  0.008\n",
       "2018-11-30    0.78 -0.33 -0.43  0.008\n",
       "2018-12-03    1.13 -0.05 -0.80  0.011\n",
       "2018-12-04   -3.45 -0.97 -0.21  0.011\n",
       "...            ...   ...   ...    ...\n",
       "2023-09-25    0.39 -0.11  0.35  0.021\n",
       "2023-09-26   -1.46  0.39 -0.50  0.021\n",
       "2023-09-27    0.13  0.69  0.12  0.021\n",
       "2023-09-28    0.65  0.16  0.03  0.021\n",
       "2023-09-29   -0.27 -0.03  0.30  0.021\n",
       "\n",
       "[1217 rows x 4 columns]"
      ]
     },
     "execution_count": 79,
     "metadata": {},
     "output_type": "execute_result"
    }
   ],
   "source": [
    "ff_factors"
   ]
  },
  {
   "cell_type": "markdown",
   "id": "f78bd58e-fca0-48c4-9a9e-512c71955fbf",
   "metadata": {},
   "source": [
    "For the exogenous factors, we employ the FRED database. The risk free rate of return is ordinarily estimated using government bonds and we obtain the risk free rate from the estimation of French. We employ a petrol factor which is the brent crude oil prices in europe (FRED, 2023). Crude oil pricing acts as a broader economic indicator, and changes in oil price can influence production costs, transportation costs and ultimately return on portfolios. We also include inflationary surpise. For this factor, the  market yield on U.S. treasury securities at 10-Year Constant Maturity which are quoted on an investment basis is used (FRED, 2023). We also use the same factor but inflation-indexed (FRED, 2023). The difference between the two yields is interpreted as the inflation rate expected by the market: the break-even inflation rate (BEI)."
   ]
  },
  {
   "cell_type": "code",
   "execution_count": 80,
   "id": "e1780ab6-5e49-44ba-82c4-5f6f96e20feb",
   "metadata": {
    "tags": []
   },
   "outputs": [],
   "source": [
    "reader = fred.FredReader(['DGS10', 'DCOILBRENTEU', 'DFII10'], start, end)\n",
    "data = reader.read()\n",
    "\n",
    "data.rename(columns={\n",
    "    'CPIAUCNS': 'cpi',\n",
    "    'DCOILBRENTEU': 'brent',\n",
    "    'DGS10': 'ust10',\n",
    "    'DFII10': 'usti10',\n",
    "}, inplace=True)\n",
    "data.index.name = 'date'"
   ]
  },
  {
   "cell_type": "markdown",
   "id": "86b222ba-73ce-4dad-9a6c-72d036fd5d9f",
   "metadata": {},
   "source": [
    "30 stocks are chosen from the S&P 500 index (see appendix for list). From yahoo Finance, daily data on open price, close price, high price, low price and adjusted close price is obtained for all trading days throughout our sample period (Yahoo Finance, 2023). The adjusted close is logged and differenced to estimate the daily return rates of all 30 stocks in our 'portfolio'."
   ]
  },
  {
   "cell_type": "code",
   "execution_count": 81,
   "id": "7df8e94d-365b-4161-ad38-ce48b73378b5",
   "metadata": {
    "tags": []
   },
   "outputs": [
    {
     "name": "stdout",
     "output_type": "stream",
     "text": [
      "[*********************100%%**********************]  30 of 30 completed\n"
     ]
    }
   ],
   "source": [
    "#selecting 30 stocks\n",
    "tickers = pd.read_html('https://en.wikipedia.org/wiki/List_of_S%26P_500_companies')\n",
    "tickers = list(tickers[0].Symbol.iloc[:30].values)\n",
    "\n",
    "_data = yf.download(tickers=tickers, start=start, end=end)\n",
    "_data.index.name = 'date'"
   ]
  },
  {
   "cell_type": "code",
   "execution_count": 82,
   "id": "546005ab-8c11-45f7-b610-287b2e2f3228",
   "metadata": {
    "tags": []
   },
   "outputs": [
    {
     "data": {
      "text/plain": [
       "['MMM',\n",
       " 'AOS',\n",
       " 'ABT',\n",
       " 'ABBV',\n",
       " 'ACN',\n",
       " 'ADM',\n",
       " 'ADBE',\n",
       " 'ADP',\n",
       " 'AES',\n",
       " 'AFL',\n",
       " 'A',\n",
       " 'ABNB',\n",
       " 'APD',\n",
       " 'AKAM',\n",
       " 'ALK',\n",
       " 'ALB',\n",
       " 'ARE',\n",
       " 'ALGN',\n",
       " 'ALLE',\n",
       " 'LNT',\n",
       " 'ALL',\n",
       " 'GOOGL',\n",
       " 'GOOG',\n",
       " 'MO',\n",
       " 'AMZN',\n",
       " 'AMCR',\n",
       " 'AMD',\n",
       " 'AEE',\n",
       " 'AAL',\n",
       " 'AEP']"
      ]
     },
     "execution_count": 82,
     "metadata": {},
     "output_type": "execute_result"
    }
   ],
   "source": [
    "tickers"
   ]
  },
  {
   "cell_type": "code",
   "execution_count": 83,
   "id": "398f6e8e-1491-4f1b-b771-c3583f8946f0",
   "metadata": {
    "tags": []
   },
   "outputs": [],
   "source": [
    "data = data.join(np.log(_data['Adj Close']).diff().dropna())"
   ]
  },
  {
   "cell_type": "code",
   "execution_count": 84,
   "id": "95fdad38-f214-4e0e-ac5e-e80c4494a0df",
   "metadata": {
    "tags": []
   },
   "outputs": [],
   "source": [
    "data = data.join(ff_factors)"
   ]
  },
  {
   "cell_type": "markdown",
   "id": "78d029b6-6345-4375-8526-46e6f34b7b74",
   "metadata": {},
   "source": [
    "# The Arbitrage Pricing Theory"
   ]
  },
  {
   "cell_type": "markdown",
   "id": "0ac82931-f639-4481-9b93-db950eb8c920",
   "metadata": {},
   "source": [
    "The CAPM beta does not completely explain an asset's expected returns. There are likely to be more than one factors that characterise the returns of an asset. The Arbitrage Pricing Theory (APT) developed by Ross (1976) is an extension and an alternative to the CAPM because it allows for multiple risk factors and does not require identification of the market portfolio - it is more general (Campbell, Lo & MacKinlay, 1997).\n",
    "\n",
    "The returns of stocks are assumed obey the factorial model:\n",
    "$$\n",
    "\\forall{j} R_j = E(R_j) +Σ^{K}_{k=1}β_{jk}f_k + u_j\n",
    "$$\n",
    "The factors are $f_k$ are exogenous and will summarise the common risks shared by all stocks. The factors can essentially be shocks, such as 'inflationary surprise'. This means that they are unpredictable and bear no relation to the past (white noise). We extract the unpredictable parts from macroeconomic time series in the next section.\n",
    "\n",
    "The no arbitrage condition (impossible to earn excess return without taking on risk) and the factorial structure alow the expected returns to be constrained by the multibeta relationship.\n",
    "\n",
    "$$\n",
    "\\existsρ,\\existsλ_1,..., \\existsλ_K/ \\forall{j}, 1≤j≤J, E(R_j) = ρ+Σ_{k=1}^Kλ_kβ_{jk}\n",
    "$$\n",
    "\n",
    "where $ρ$ is the riskless rate of interest and the $λ_k$ is the expected excess return on the market (the risk premium) associated with risk factor $f_k$: the market price of corresponding risk. With an absence of arbitrage opportunities, the following is true:\n",
    "$$\n",
    "Σ^J_{j=1}α_jE(R_j)=0\n",
    "$$\n",
    "If this was larger than 0, multiplying all $α_j$ by a coeffciient $c>0$ one obtains a portfolio with high return. The absence of arbitrage condition is formalised by Ross here by considering a costless portfolio without risk.\n",
    "\n",
    "Accordingly, and as we saw in class, if there exists an asset that is not risky in that it is excluded from the risk factors $f_k$ the $β$s corresponding to the risk factor are 0 as well as the idiosyncratic (or unsystematic) part of the return $R_F$, the multibeta relationship reduces to $E(R_F)=R_F=ρ$ = the riskless rate of interest. Hence the multibeta relationship above specifies the risk premium of the assets:\n",
    "$$\n",
    "\\forall{j},E(R_j)-R_F = Σ^K_{k=1}λ_kβ_{jk}\n",
    "$$\n",
    "If the variables $u_j$ and the factors are uncorrelated, we can use standard OLS to estimate the relationship. Furthermore, if the factors are uncorrelated among each other,\n",
    "$$\n",
    "\\forall{k_0},β_{jk_0} = \\frac{cov(R_j,f_{k_0}}{Var(f_{k_0}}\n",
    "$$\n",
    "The $λ_k$s therefore are the prices of the k different risk sources and is the risk premium of the market and assesses how the market is priced."
   ]
  },
  {
   "cell_type": "markdown",
   "id": "1632a45e-ad27-460b-8066-577fda315ba6",
   "metadata": {},
   "source": [
    "# Identification of the Factors"
   ]
  },
  {
   "cell_type": "markdown",
   "id": "4a487f6b-a176-4dd1-bd77-fa2507152f2d",
   "metadata": {},
   "source": [
    "We outlined above what factors we are considering: Petrol, surprise inflation, and suprise changes in the prices of a risk-free asset. As mentioned, the risk factors have to consist of the unpredictable parts of the time series because only unforecastable risk is priced by the market and can be rewarded with returns.\n",
    "\n",
    "The factorial model estimated with time is:\n",
    "$$\n",
    "\\forall{j}, \\forall{t}, R_{j,t+1} = E_t(R_{j,t+1} + Σ^K_{k=1}β_{jk}f_{k,t+1}+u_{j,t+1}\n",
    "$$\n",
    "with $\\forall{k},E_t(f_{k,t+1})=0$ and $E_t(u_{j,t+1})=0$ meaning that the factors are unpredictable as well as unsystematic risk of any asset.\n",
    "\n",
    "For this reason, we limit ourselves to the best linear predictions of the different random variables. $E(Y|X)$ is replaced by $EL(Y|X)$."
   ]
  },
  {
   "cell_type": "markdown",
   "id": "ed4b095d-cf0b-404e-90ea-7fe914886a76",
   "metadata": {
    "tags": []
   },
   "source": [
    "## Petrol Factor"
   ]
  },
  {
   "cell_type": "markdown",
   "id": "5864c370-f489-486e-8def-8270fd73d27a",
   "metadata": {},
   "source": [
    "The petrol factor we estimate is the surprise in Brent crude oil prices.\n",
    "\n",
    "ARIMA models are used when time series show non-stationarity in terms of mean but not in variance or autocovariance. The price of crude oil is an I(1), non-stationary series. The Augmented Dickey-Fuller test below on the first difference allows rejection of the null hypothesis that there is a unit root. Furthermore, the autocorrelation and partial autocorrelation plots of the first difference suggest no coefficients significantly different from 0. This all supports the hypothesis that there is stationarity in variance and autocovariance, but non-stationarity in mean, making the time series suitable for estimation using an integrated moving average model: ARIMA."
   ]
  },
  {
   "cell_type": "code",
   "execution_count": 85,
   "id": "26b7bdcd-5bce-4f0c-8a72-fe4d31477512",
   "metadata": {
    "tags": []
   },
   "outputs": [
    {
     "name": "stdout",
     "output_type": "stream",
     "text": [
      "-----------------------------------------------------------------------------\n",
      "ADF Test BRENT: H0 there is a unit root\n",
      "-----------------------------------------------------------------------------\n",
      "                        adf-stat  p-value  #lags   #obs     1%     5%    10%\n",
      "constant                 -11.079      0.0    6.0  735.0 -3.439 -2.865 -2.569\n",
      "constant trend           -11.077      0.0    6.0  735.0 -3.971 -3.416 -3.131\n",
      "constant ltend, qtrend   -11.420      0.0    6.0  735.0 -4.387 -3.840 -3.558\n",
      "none                     -11.081      0.0    6.0  735.0 -2.569 -1.941 -1.616\n",
      "\n",
      "\n"
     ]
    }
   ],
   "source": [
    "adf_test_summary(data.brent.diff().dropna())"
   ]
  },
  {
   "cell_type": "code",
   "execution_count": 86,
   "id": "9129964a-965e-4b25-bc02-8f1d2e3d1633",
   "metadata": {
    "tags": []
   },
   "outputs": [
    {
     "data": {
      "image/png": "[encoded data removed]",
      "text/plain": [
       "<Figure size 1500x500 with 2 Axes>"
      ]
     },
     "metadata": {},
     "output_type": "display_data"
    }
   ],
   "source": [
    "fig, ax = plt.subplots(1, 2, figsize=(15, 5))\n",
    "plot_acf(data.brent.diff().dropna(), ax=ax[0])\n",
    "plot_pacf(data.brent.diff().dropna(), ax=ax[1])\n",
    "plt.tight_layout()"
   ]
  },
  {
   "cell_type": "markdown",
   "id": "0d19c10c-385d-4cb7-a2c7-1f36d2d9406a",
   "metadata": {},
   "source": [
    "A moving average process is a linear combination of white noise processes so that $y_t$ depends on current and previous values of the disturbance term $u_t$ (Brooks, 2019). An integrated autoregressive process is one where the characteristic equation has a root in the unit circle. We build an ARIMA(4,1,1) model here, which is an ARMA model on the first-differenced crude price with 4 lags and 1 lag of the disturbance term. "
   ]
  },
  {
   "cell_type": "code",
   "execution_count": 87,
   "id": "0235d96a-75c8-4c07-bc85-6146a9804579",
   "metadata": {
    "tags": []
   },
   "outputs": [
    {
     "name": "stdout",
     "output_type": "stream",
     "text": [
      "                               SARIMAX Results                                \n",
      "==============================================================================\n",
      "Dep. Variable:                  brent   No. Observations:                 1095\n",
      "Model:                 ARIMA(4, 1, 1)   Log Likelihood               -1710.272\n",
      "Date:                Mon, 27 Nov 2023   AIC                           3432.543\n",
      "Time:                        17:24:08   BIC                           3462.529\n",
      "Sample:                    01-01-2020   HQIC                          3443.890\n",
      "                         - 12-30-2022                                         \n",
      "Covariance Type:                  opg                                         \n",
      "==============================================================================\n",
      "                 coef    std err          z      P>|z|      [0.025      0.975]\n",
      "------------------------------------------------------------------------------\n",
      "ar.L1          0.4168      0.190      2.195      0.028       0.045       0.789\n",
      "ar.L2         -0.1384      0.039     -3.520      0.000      -0.215      -0.061\n",
      "ar.L3          0.2733      0.036      7.557      0.000       0.202       0.344\n",
      "ar.L4         -0.2023      0.034     -5.979      0.000      -0.269      -0.136\n",
      "ma.L1         -0.4383      0.200     -2.190      0.028      -0.831      -0.046\n",
      "sigma2         4.0426      0.127     31.940      0.000       3.795       4.291\n",
      "===================================================================================\n",
      "Ljung-Box (L1) (Q):                   5.39   Jarque-Bera (JB):              6194.66\n",
      "Prob(Q):                              0.02   Prob(JB):                         0.00\n",
      "Heteroskedasticity (H):               3.57   Skew:                            -1.08\n",
      "Prob(H) (two-sided):                  0.00   Kurtosis:                        14.46\n",
      "===================================================================================\n",
      "\n",
      "Warnings:\n",
      "[1] Covariance matrix calculated using the outer product of gradients (complex-step).\n"
     ]
    }
   ],
   "source": [
    "_ = data[['brent']].asfreq('D').copy()\n",
    "arima = ARIMA(_, order=(4,1,1)).fit()\n",
    "print(arima.summary())"
   ]
  },
  {
   "cell_type": "markdown",
   "id": "74e086f9-210c-41c3-9097-1ee51505bd80",
   "metadata": {},
   "source": [
    "Following estimation of the ARIMA model (see appendix for full model table), the fitted values of the model can be plotted against the actual values of the crude oil price. As can be seen from the figure below, the ARIMA(4,1,1) model fits the actual time series excellently.\n",
    "\n",
    "To find the 'unpredictable' part of this factor, the residuals are calculated. This reflects the surprise or unforecastable part of petrol pricing; this is risk that is priced by the market."
   ]
  },
  {
   "cell_type": "code",
   "execution_count": 88,
   "id": "63f9180d-d568-4c2a-b4b2-c1662b1e021a",
   "metadata": {
    "tags": []
   },
   "outputs": [
    {
     "data": {
      "text/plain": [
       "[<matplotlib.lines.Line2D at 0x17bb3e690>]"
      ]
     },
     "execution_count": 88,
     "metadata": {},
     "output_type": "execute_result"
    },
    {
     "data": {
      "image/png": "[encoded data removed]",
      "text/plain": [
       "<Figure size 2000x500 with 1 Axes>"
      ]
     },
     "metadata": {},
     "output_type": "display_data"
    }
   ],
   "source": [
    "fig = plt.figure(figsize=(20, 5))\n",
    "plt.plot(arima.fittedvalues)\n",
    "plt.plot(data.brent)"
   ]
  },
  {
   "cell_type": "code",
   "execution_count": 89,
   "id": "c4893f1c-882a-496e-81a0-6068ec3ea1a3",
   "metadata": {
    "tags": []
   },
   "outputs": [],
   "source": [
    "factor_brent = pd.DataFrame(arima.resid.rename('brent').iloc[2:])"
   ]
  },
  {
   "cell_type": "markdown",
   "id": "0a3d2a1a-35e3-48c9-a237-d3c6fdabc1bf",
   "metadata": {},
   "source": [
    "Having extracted the unpredictable part of the petrol pricing, we can see that it is a white noise process reflecting the unforecastability of the risk factors and the reasoning for them to be priced into the market."
   ]
  },
  {
   "cell_type": "code",
   "execution_count": 90,
   "id": "eb920c3d-616d-4419-8c8b-e03b541e555b",
   "metadata": {
    "tags": []
   },
   "outputs": [
    {
     "data": {
      "text/plain": [
       "[<matplotlib.lines.Line2D at 0x17a47c810>]"
      ]
     },
     "execution_count": 90,
     "metadata": {},
     "output_type": "execute_result"
    },
    {
     "data": {
      "image/png": "[encoded data removed]",
      "text/plain": [
       "<Figure size 640x480 with 1 Axes>"
      ]
     },
     "metadata": {},
     "output_type": "display_data"
    }
   ],
   "source": [
    "plt.plot(factor_brent)"
   ]
  },
  {
   "cell_type": "markdown",
   "id": "77e741a0-a7bb-40bb-a62b-a416b35a6928",
   "metadata": {
    "tags": []
   },
   "source": [
    "## Tips BEI factor"
   ]
  },
  {
   "cell_type": "markdown",
   "id": "fcd10443-c5ec-4319-863f-372b48c35561",
   "metadata": {},
   "source": [
    "As mentioned above, this factor captures the surprises in inflation. The process of extracting the unpredictable part is much the same as the petrol factor but involves a few more steps. First the difference between the Tbill yield and the inflation adjusted Tbill yield is calculated. This is called the break-even inflation rate, BEI. The process from here is the same as the petrol factor. The BEI is I(1) and the first-differenced BEI follows a moving average process. The ADF test on the first differences allows rejection of the null hypothesis that there is a unit root. The ACF and PACF functions are similar to those of the petrol factor with no coefficients significantly different from 0. "
   ]
  },
  {
   "cell_type": "code",
   "execution_count": 91,
   "id": "0657d2be-8030-49f7-af20-22373f2e15f1",
   "metadata": {
    "tags": []
   },
   "outputs": [],
   "source": [
    "tips = data[['ust10', 'usti10']].dropna().copy()"
   ]
  },
  {
   "cell_type": "code",
   "execution_count": 92,
   "id": "a10c9eb8-3da7-4341-8596-e2fce1212a28",
   "metadata": {
    "tags": []
   },
   "outputs": [],
   "source": [
    "tips['bei'] = tips.ust10 - tips.usti10\n",
    "tips.drop(['ust10', 'usti10'], axis=1, inplace=True)"
   ]
  },
  {
   "cell_type": "code",
   "execution_count": 93,
   "id": "bbd1ae56-c3b7-4802-87b9-5ee20b216bd8",
   "metadata": {
    "tags": []
   },
   "outputs": [
    {
     "name": "stdout",
     "output_type": "stream",
     "text": [
      "-----------------------------------------------------------------------------\n",
      "ADF Test BEI: H0 there is a unit root\n",
      "-----------------------------------------------------------------------------\n",
      "                        adf-stat  p-value  #lags   #obs     1%     5%    10%\n",
      "constant                 -24.789      0.0    0.0  749.0 -3.439 -2.865 -2.569\n",
      "constant trend           -24.775      0.0    0.0  749.0 -3.971 -3.416 -3.131\n",
      "constant ltend, qtrend   -24.848      0.0    0.0  749.0 -4.387 -3.840 -3.558\n",
      "none                     -24.800      0.0    0.0  749.0 -2.569 -1.941 -1.616\n",
      "\n",
      "\n"
     ]
    }
   ],
   "source": [
    "adf_test_summary(tips.bei.diff().dropna())"
   ]
  },
  {
   "cell_type": "code",
   "execution_count": 94,
   "id": "9ee82551-43ad-44fc-b593-1b5deaf73c67",
   "metadata": {
    "tags": []
   },
   "outputs": [
    {
     "data": {
      "image/png": "[encoded data removed]",
      "text/plain": [
       "<Figure size 1500x500 with 2 Axes>"
      ]
     },
     "metadata": {},
     "output_type": "display_data"
    }
   ],
   "source": [
    "fig, ax = plt.subplots(1, 2, figsize=(15, 5))\n",
    "plot_acf(tips.bei.diff().dropna(), ax=ax[0])\n",
    "plot_pacf(tips.bei.diff().dropna(), ax=ax[1])\n",
    "plt.tight_layout()"
   ]
  },
  {
   "cell_type": "markdown",
   "id": "1dca1bfc-e3a3-4c2a-a0c0-9e00729c008c",
   "metadata": {},
   "source": [
    "Again, following the Box-Jenkins approach to specify the ARIMA model, we estimate an ARIMA(3,1,0)."
   ]
  },
  {
   "cell_type": "code",
   "execution_count": 95,
   "id": "1873aa4c-adfa-4137-a51f-f55a840588a9",
   "metadata": {
    "tags": []
   },
   "outputs": [
    {
     "name": "stdout",
     "output_type": "stream",
     "text": [
      "                               SARIMAX Results                                \n",
      "==============================================================================\n",
      "Dep. Variable:                    bei   No. Observations:                 1094\n",
      "Model:                 ARIMA(3, 1, 0)   Log Likelihood                1277.594\n",
      "Date:                Mon, 27 Nov 2023   AIC                          -2547.188\n",
      "Time:                        17:24:11   BIC                          -2527.201\n",
      "Sample:                    01-02-2020   HQIC                         -2539.624\n",
      "                         - 12-30-2022                                         \n",
      "Covariance Type:                  opg                                         \n",
      "==============================================================================\n",
      "                 coef    std err          z      P>|z|      [0.025      0.975]\n",
      "------------------------------------------------------------------------------\n",
      "ar.L1         -0.0474      0.026     -1.855      0.064      -0.098       0.003\n",
      "ar.L2         -0.0485      0.036     -1.362      0.173      -0.118       0.021\n",
      "ar.L3          0.0772      0.037      2.090      0.037       0.005       0.150\n",
      "sigma2         0.0015    4.6e-05     33.546      0.000       0.001       0.002\n",
      "===================================================================================\n",
      "Ljung-Box (L1) (Q):                   4.77   Jarque-Bera (JB):              2871.82\n",
      "Prob(Q):                              0.03   Prob(JB):                         0.00\n",
      "Heteroskedasticity (H):               1.22   Skew:                            -0.17\n",
      "Prob(H) (two-sided):                  0.06   Kurtosis:                        10.93\n",
      "===================================================================================\n",
      "\n",
      "Warnings:\n",
      "[1] Covariance matrix calculated using the outer product of gradients (complex-step).\n"
     ]
    }
   ],
   "source": [
    "tips = tips.asfreq('D')\n",
    "arima = ARIMA(tips.bei, order=(3,1,0)).fit()\n",
    "print(arima.summary())"
   ]
  },
  {
   "cell_type": "markdown",
   "id": "937f4011-2843-4cf6-8cbb-b111f9e606aa",
   "metadata": {},
   "source": [
    "The fitted values and the actual values almost entirely overlay indicating a correctly specified model. Following from this, the unpredictable risk that is priced by the market needs to be extracted, so the residuals from the ARIMA model are saved as the unforecastable white noise risk factor."
   ]
  },
  {
   "cell_type": "code",
   "execution_count": 96,
   "id": "c6aae0fc-0854-4a22-9802-1c55fca66289",
   "metadata": {
    "tags": []
   },
   "outputs": [
    {
     "data": {
      "text/plain": [
       "[<matplotlib.lines.Line2D at 0x17bf5c7d0>]"
      ]
     },
     "execution_count": 96,
     "metadata": {},
     "output_type": "execute_result"
    },
    {
     "data": {
      "image/png": "[encoded data removed]",
      "text/plain": [
       "<Figure size 2000x500 with 1 Axes>"
      ]
     },
     "metadata": {},
     "output_type": "display_data"
    }
   ],
   "source": [
    "fig = plt.figure(figsize=(20, 5))\n",
    "plt.plot(arima.fittedvalues)\n",
    "plt.plot(tips.bei)"
   ]
  },
  {
   "cell_type": "code",
   "execution_count": 97,
   "id": "95fc2883-4585-454e-92f1-81b0d6b237af",
   "metadata": {
    "tags": []
   },
   "outputs": [],
   "source": [
    "factor_bei = pd.DataFrame(arima.resid.rename('bei').iloc[1:])"
   ]
  },
  {
   "cell_type": "markdown",
   "id": "f3b2a006-69d1-4dd1-9ae2-a1a362a2e03a",
   "metadata": {},
   "source": [
    "Again, the residuals are a white noise process which is indicative of the unpredictability."
   ]
  },
  {
   "cell_type": "code",
   "execution_count": 98,
   "id": "fd57d8c8-4b4b-40e8-897d-cf9f66273286",
   "metadata": {
    "tags": []
   },
   "outputs": [
    {
     "data": {
      "text/plain": [
       "[<matplotlib.lines.Line2D at 0x17d1746d0>]"
      ]
     },
     "execution_count": 98,
     "metadata": {},
     "output_type": "execute_result"
    },
    {
     "data": {
      "image/png": "[encoded data removed]",
      "text/plain": [
       "<Figure size 640x480 with 1 Axes>"
      ]
     },
     "metadata": {},
     "output_type": "display_data"
    }
   ],
   "source": [
    "plt.plot(factor_bei)"
   ]
  },
  {
   "cell_type": "markdown",
   "id": "aaa3b398-a759-440a-a13f-679a277e32d3",
   "metadata": {
    "tags": []
   },
   "source": [
    "## Interest Rate Expectation"
   ]
  },
  {
   "cell_type": "markdown",
   "id": "8293754a-e812-45f9-90fb-42132b879377",
   "metadata": {},
   "source": [
    "The final factor estimated is the surprise in the prices of a risk free asset, effectively surprises in interest rates. We used the movements in the US 10 year treasury bond for this, the same time series used for the surprise inflation factor.\n",
    "\n",
    "The time series is an I(1) process, with an ADF test on the first differences allowing rejection of the null hypothesis of a unit root."
   ]
  },
  {
   "cell_type": "code",
   "execution_count": 99,
   "id": "9b187cd3-d5ab-4917-af23-433e32844e50",
   "metadata": {
    "tags": []
   },
   "outputs": [
    {
     "name": "stdout",
     "output_type": "stream",
     "text": [
      "-----------------------------------------------------------------------------\n",
      "ADF Test UST10: H0 there is a unit root\n",
      "-----------------------------------------------------------------------------\n",
      "                        adf-stat  p-value  #lags   #obs     1%     5%    10%\n",
      "constant                 -20.299      0.0    1.0  717.0 -3.440 -2.866 -2.569\n",
      "constant trend           -17.127      0.0    2.0  716.0 -3.971 -3.417 -3.131\n",
      "constant ltend, qtrend   -17.228      0.0    2.0  716.0 -4.387 -3.841 -3.558\n",
      "none                     -20.257      0.0    1.0  717.0 -2.569 -1.941 -1.616\n",
      "\n",
      "\n"
     ]
    }
   ],
   "source": [
    "adf_test_summary(data.ust10.diff().dropna())"
   ]
  },
  {
   "cell_type": "markdown",
   "id": "236da9da-06cd-4808-aa24-282ad0357d7f",
   "metadata": {},
   "source": [
    "The ACF and PACF tell the same story with no coefficients significantly different from 0."
   ]
  },
  {
   "cell_type": "code",
   "execution_count": 100,
   "id": "49414e12-80a2-4e27-9cbb-ad7ffab7bb06",
   "metadata": {
    "tags": []
   },
   "outputs": [
    {
     "data": {
      "image/png": "[encoded data removed]",
      "text/plain": [
       "<Figure size 1500x500 with 2 Axes>"
      ]
     },
     "metadata": {},
     "output_type": "display_data"
    }
   ],
   "source": [
    "fig, ax = plt.subplots(1, 2, figsize=(15, 5))\n",
    "plot_acf(data.ust10.diff().dropna(), ax=ax[0])\n",
    "plot_pacf(data.ust10.diff().dropna(), ax=ax[1])\n",
    "plt.tight_layout()"
   ]
  },
  {
   "cell_type": "markdown",
   "id": "75085753-c9a6-47c9-ada9-18cbf375c831",
   "metadata": {},
   "source": [
    "The best linear approximation relies on an ARIMA(2,1,1) model which is fitted with the residuals saved as the unpredictable time series."
   ]
  },
  {
   "cell_type": "code",
   "execution_count": 101,
   "id": "a9abf47d-caa8-43cd-875b-7e18cb359939",
   "metadata": {
    "tags": []
   },
   "outputs": [
    {
     "name": "stdout",
     "output_type": "stream",
     "text": [
      "                               SARIMAX Results                                \n",
      "==============================================================================\n",
      "Dep. Variable:                  ust10   No. Observations:                 1095\n",
      "Model:                 ARIMA(2, 1, 1)   Log Likelihood                1018.647\n",
      "Date:                Mon, 27 Nov 2023   AIC                          -2029.294\n",
      "Time:                        17:24:16   BIC                          -2009.304\n",
      "Sample:                    01-01-2020   HQIC                         -2021.730\n",
      "                         - 12-30-2022                                         \n",
      "Covariance Type:                  opg                                         \n",
      "==============================================================================\n",
      "                 coef    std err          z      P>|z|      [0.025      0.975]\n",
      "------------------------------------------------------------------------------\n",
      "ar.L1          0.4406      0.201      2.189      0.029       0.046       0.835\n",
      "ar.L2         -0.1165      0.037     -3.129      0.002      -0.190      -0.044\n",
      "ma.L1         -0.4361      0.200     -2.183      0.029      -0.828      -0.045\n",
      "sigma2         0.0030    9.9e-05     30.438      0.000       0.003       0.003\n",
      "===================================================================================\n",
      "Ljung-Box (L1) (Q):                   1.51   Jarque-Bera (JB):              1606.27\n",
      "Prob(Q):                              0.22   Prob(JB):                         0.00\n",
      "Heteroskedasticity (H):               2.06   Skew:                            -0.15\n",
      "Prob(H) (two-sided):                  0.00   Kurtosis:                         8.93\n",
      "===================================================================================\n",
      "\n",
      "Warnings:\n",
      "[1] Covariance matrix calculated using the outer product of gradients (complex-step).\n"
     ]
    }
   ],
   "source": [
    "_ = data[['ust10']].asfreq('D').copy()\n",
    "arima = ARIMA(_, order=(2,1,1)).fit()\n",
    "print(arima.summary())"
   ]
  },
  {
   "cell_type": "markdown",
   "id": "da394606-9d82-4759-8785-44770bf37827",
   "metadata": {},
   "source": [
    "Fitting the models again displays fitted values that are almost overlayed with the actual 10 year treasury bond yields suggesting a correctly specified model and the estimation of the best linear approximation.\n",
    "\n",
    "Now, to extract the factor, the corresponding residual which is not correlated with the regressors is saved."
   ]
  },
  {
   "cell_type": "code",
   "execution_count": 102,
   "id": "8a0ec2a7-67a7-4e33-b898-721a1b021d01",
   "metadata": {
    "tags": []
   },
   "outputs": [
    {
     "data": {
      "text/plain": [
       "<Axes: xlabel='date'>"
      ]
     },
     "execution_count": 102,
     "metadata": {},
     "output_type": "execute_result"
    },
    {
     "data": {
      "image/png": "[encoded data removed]",
      "text/plain": [
       "<Figure size 2000x500 with 1 Axes>"
      ]
     },
     "metadata": {},
     "output_type": "display_data"
    }
   ],
   "source": [
    "fig = plt.figure(figsize=(20,5))\n",
    "arima.fittedvalues.plot()\n",
    "data.ust10.plot()"
   ]
  },
  {
   "cell_type": "code",
   "execution_count": 103,
   "id": "c73a7b98-3d43-45a8-883f-6b7bd490164e",
   "metadata": {
    "tags": []
   },
   "outputs": [],
   "source": [
    "factor_int = pd.DataFrame(arima.resid.iloc[2:].rename('int'))"
   ]
  },
  {
   "cell_type": "markdown",
   "id": "2f22e1ad-d372-487c-8f30-4f6ca6e03a87",
   "metadata": {},
   "source": [
    "The risk factor is a white noise process reflecting the unpredictability and deeming it worthy to be priced by the market."
   ]
  },
  {
   "cell_type": "code",
   "execution_count": 104,
   "id": "f70ec4a9-11f0-4289-a805-c167e154d826",
   "metadata": {
    "tags": []
   },
   "outputs": [
    {
     "data": {
      "text/plain": [
       "<Axes: xlabel='date'>"
      ]
     },
     "execution_count": 104,
     "metadata": {},
     "output_type": "execute_result"
    },
    {
     "data": {
      "image/png": "[encoded data removed]",
      "text/plain": [
       "<Figure size 640x480 with 1 Axes>"
      ]
     },
     "metadata": {},
     "output_type": "display_data"
    }
   ],
   "source": [
    "factor_int.plot()"
   ]
  },
  {
   "cell_type": "markdown",
   "id": "0099a562-bdd7-440e-8e32-039af76d0951",
   "metadata": {},
   "source": [
    "# S&P 500 Stocks (Global Stock Index)"
   ]
  },
  {
   "cell_type": "markdown",
   "id": "e12553d0-deda-4de2-88d5-b9feeedd2394",
   "metadata": {},
   "source": [
    "## Estimation of the beta coefficients"
   ]
  },
  {
   "cell_type": "markdown",
   "id": "0683138a-4a97-489c-a047-0da5b4780e2b",
   "metadata": {},
   "source": [
    "Now that the innovations of the different macroeconomic and financial series have been extracted, the beta coeffcients can be estimated.\n",
    "\n",
    "To estimate the beta coefficients for the global index (the 30 stocks from the S&P500), we regress the series of the returns of the different assets ($R_{j,t}$) on the innovation series ($f_{k,t}$) and an intercept.\n",
    "\n",
    "Hence, the beta coefficients are estimated, as well as the riskless rate of interest, $ρ$, by OLS. The estimates are $\\hat{β_{jk}}$ and $\\hat{ρ}$.\n",
    "\n",
    "The expectations of the returns are indicated by the historical mean return giving\n",
    "$$\n",
    "\\hat{E(R_j)} - \\hat{ρ} = \\frac{1}{T}Σ^T_{t=1}(r_{jt} - \\hat{ρ})\n",
    "$$\n",
    "where $r_{jt}$ is the return of the asset $j$ at day $t$."
   ]
  },
  {
   "cell_type": "code",
   "execution_count": 105,
   "id": "5cac12e5-e255-46c5-9d8c-3bdf69900e20",
   "metadata": {
    "tags": []
   },
   "outputs": [],
   "source": [
    "#Historical mean return"
   ]
  },
  {
   "cell_type": "code",
   "execution_count": 106,
   "id": "3c4fd4cb-944f-449e-b0cd-d77f1f59e036",
   "metadata": {
    "tags": []
   },
   "outputs": [],
   "source": [
    "stocks = data[tickers].dropna().copy()"
   ]
  },
  {
   "cell_type": "code",
   "execution_count": 107,
   "id": "7aebbdc8-76cc-475b-912b-bff6f7a10d42",
   "metadata": {
    "tags": []
   },
   "outputs": [],
   "source": [
    "hist_mean_rets = stocks.mean().copy()\n",
    "ρ_10y = np.log(data.ust10.dropna()).diff().dropna().mean()\n",
    "\n",
    "hist_mean_rets = pd.DataFrame((hist_mean_rets - ρ_10y).rename('E_ret'))"
   ]
  },
  {
   "cell_type": "code",
   "execution_count": 108,
   "id": "94697c08-3d79-4df1-a4c7-bc928cdf87a5",
   "metadata": {
    "tags": []
   },
   "outputs": [],
   "source": [
    "factors = pd.concat([factor_brent, factor_int, factor_bei], axis=1).dropna()"
   ]
  },
  {
   "cell_type": "code",
   "execution_count": 109,
   "id": "480dbdc5-14f0-4883-aa37-e822abecdd96",
   "metadata": {
    "tags": []
   },
   "outputs": [],
   "source": [
    "betas = {}\n",
    "errors = {}\n",
    "intercepts = {}\n",
    "for f in factors:\n",
    "    _ = factors[[f]].join(stocks).dropna().copy()\n",
    "    _['const'] = list([1] * len(_))\n",
    "    \n",
    "    ols = OLS(_[f], _.drop(f, axis=1)).fit()\n",
    "    \n",
    "    betas[f] = ols.params\n",
    "    errors[f] = ols.resid\n",
    "    intercepts[f] = ols.params['const']\n",
    "    \n",
    "betas = pd.DataFrame(betas)"
   ]
  },
  {
   "cell_type": "markdown",
   "id": "b84947fc-98e6-4cb5-86b2-e46a64389bd6",
   "metadata": {},
   "source": [
    "As can be seen by the table in the appendix, each of the 30 stocks has a β for each factor. The sensitivity of the returns to the pretol factor appear to be highest. This is perhaps not because these firms' profits are extremely elastic to crude oil prices and so surprises in the crude oil price negatively affect the returns. Instead, the petrol factor can be interpreted as an indicator of the health of the economy, so the high sensitivity of the returns to this factor can indicate the pro-cyclical nature of some of these stocks, such as Google. We compare the sensitivity of the returns to the risk factors to the sector-specific index in the next part. \n",
    "\n",
    "The beta coefficients for the interest rate factor are generally much smaller than for the petrol factor, suggesting investors do not demand much higher returns for the risk associated with interest rate surprises when holding these stocks. The inflationary factor is smaller still. Many of these firms, such as GOOGL and AMZN are technology firms and have cash flows less sensitive to inflation than firms that are involved in construction or manufacturing for example. This may explain to an extent the lack of sensitivity of expected returns to inflationary surprises."
   ]
  },
  {
   "cell_type": "code",
   "execution_count": 110,
   "id": "44a3582a-7f80-44bb-9b20-18dd4dbb633c",
   "metadata": {
    "tags": []
   },
   "outputs": [
    {
     "data": {
      "text/html": [
       "<div>\n",
       "<style scoped>\n",
       "    .dataframe tbody tr th:only-of-type {\n",
       "        vertical-align: middle;\n",
       "    }\n",
       "\n",
       "    .dataframe tbody tr th {\n",
       "        vertical-align: top;\n",
       "    }\n",
       "\n",
       "    .dataframe thead th {\n",
       "        text-align: right;\n",
       "    }\n",
       "</style>\n",
       "<table border=\"1\" class=\"dataframe\">\n",
       "  <thead>\n",
       "    <tr style=\"text-align: right;\">\n",
       "      <th></th>\n",
       "      <th>brent</th>\n",
       "      <th>int</th>\n",
       "      <th>bei</th>\n",
       "    </tr>\n",
       "  </thead>\n",
       "  <tbody>\n",
       "    <tr>\n",
       "      <th>MMM</th>\n",
       "      <td>-7.184110</td>\n",
       "      <td>0.032418</td>\n",
       "      <td>-0.031088</td>\n",
       "    </tr>\n",
       "    <tr>\n",
       "      <th>AOS</th>\n",
       "      <td>-1.697174</td>\n",
       "      <td>0.054657</td>\n",
       "      <td>0.030267</td>\n",
       "    </tr>\n",
       "    <tr>\n",
       "      <th>ABT</th>\n",
       "      <td>-11.989577</td>\n",
       "      <td>0.379356</td>\n",
       "      <td>0.195580</td>\n",
       "    </tr>\n",
       "    <tr>\n",
       "      <th>ABBV</th>\n",
       "      <td>-0.147495</td>\n",
       "      <td>0.022441</td>\n",
       "      <td>0.089674</td>\n",
       "    </tr>\n",
       "    <tr>\n",
       "      <th>ACN</th>\n",
       "      <td>-11.245968</td>\n",
       "      <td>0.006100</td>\n",
       "      <td>0.286177</td>\n",
       "    </tr>\n",
       "    <tr>\n",
       "      <th>ADM</th>\n",
       "      <td>37.577152</td>\n",
       "      <td>0.387400</td>\n",
       "      <td>0.193286</td>\n",
       "    </tr>\n",
       "    <tr>\n",
       "      <th>ADBE</th>\n",
       "      <td>-3.987478</td>\n",
       "      <td>0.059330</td>\n",
       "      <td>-0.076384</td>\n",
       "    </tr>\n",
       "    <tr>\n",
       "      <th>ADP</th>\n",
       "      <td>11.867232</td>\n",
       "      <td>0.132379</td>\n",
       "      <td>0.167775</td>\n",
       "    </tr>\n",
       "    <tr>\n",
       "      <th>AES</th>\n",
       "      <td>5.100902</td>\n",
       "      <td>-0.284589</td>\n",
       "      <td>0.177329</td>\n",
       "    </tr>\n",
       "    <tr>\n",
       "      <th>AFL</th>\n",
       "      <td>-0.059490</td>\n",
       "      <td>1.023418</td>\n",
       "      <td>0.358499</td>\n",
       "    </tr>\n",
       "    <tr>\n",
       "      <th>A</th>\n",
       "      <td>-14.076321</td>\n",
       "      <td>-0.322675</td>\n",
       "      <td>-0.438457</td>\n",
       "    </tr>\n",
       "    <tr>\n",
       "      <th>ABNB</th>\n",
       "      <td>10.525314</td>\n",
       "      <td>-0.021393</td>\n",
       "      <td>0.017847</td>\n",
       "    </tr>\n",
       "    <tr>\n",
       "      <th>APD</th>\n",
       "      <td>-7.234357</td>\n",
       "      <td>-0.348120</td>\n",
       "      <td>-0.311744</td>\n",
       "    </tr>\n",
       "    <tr>\n",
       "      <th>AKAM</th>\n",
       "      <td>-6.087319</td>\n",
       "      <td>-0.390111</td>\n",
       "      <td>0.059223</td>\n",
       "    </tr>\n",
       "    <tr>\n",
       "      <th>ALK</th>\n",
       "      <td>2.545532</td>\n",
       "      <td>-0.049108</td>\n",
       "      <td>-0.130316</td>\n",
       "    </tr>\n",
       "    <tr>\n",
       "      <th>ALB</th>\n",
       "      <td>12.500615</td>\n",
       "      <td>0.177573</td>\n",
       "      <td>0.185369</td>\n",
       "    </tr>\n",
       "    <tr>\n",
       "      <th>ARE</th>\n",
       "      <td>4.788470</td>\n",
       "      <td>-0.549440</td>\n",
       "      <td>-0.168812</td>\n",
       "    </tr>\n",
       "    <tr>\n",
       "      <th>ALGN</th>\n",
       "      <td>-6.071035</td>\n",
       "      <td>-0.205313</td>\n",
       "      <td>-0.259721</td>\n",
       "    </tr>\n",
       "    <tr>\n",
       "      <th>ALLE</th>\n",
       "      <td>6.551902</td>\n",
       "      <td>-0.507560</td>\n",
       "      <td>-0.104131</td>\n",
       "    </tr>\n",
       "    <tr>\n",
       "      <th>LNT</th>\n",
       "      <td>-23.740833</td>\n",
       "      <td>-0.471787</td>\n",
       "      <td>-0.539113</td>\n",
       "    </tr>\n",
       "    <tr>\n",
       "      <th>ALL</th>\n",
       "      <td>14.397655</td>\n",
       "      <td>0.265322</td>\n",
       "      <td>-0.032994</td>\n",
       "    </tr>\n",
       "    <tr>\n",
       "      <th>GOOGL</th>\n",
       "      <td>50.439642</td>\n",
       "      <td>-0.314956</td>\n",
       "      <td>0.240363</td>\n",
       "    </tr>\n",
       "    <tr>\n",
       "      <th>GOOG</th>\n",
       "      <td>-38.448942</td>\n",
       "      <td>0.441678</td>\n",
       "      <td>0.074559</td>\n",
       "    </tr>\n",
       "    <tr>\n",
       "      <th>MO</th>\n",
       "      <td>17.069683</td>\n",
       "      <td>0.377257</td>\n",
       "      <td>0.382589</td>\n",
       "    </tr>\n",
       "    <tr>\n",
       "      <th>AMZN</th>\n",
       "      <td>-0.767913</td>\n",
       "      <td>-0.001749</td>\n",
       "      <td>0.046850</td>\n",
       "    </tr>\n",
       "    <tr>\n",
       "      <th>AMCR</th>\n",
       "      <td>-12.293683</td>\n",
       "      <td>-0.125711</td>\n",
       "      <td>-0.105696</td>\n",
       "    </tr>\n",
       "    <tr>\n",
       "      <th>AMD</th>\n",
       "      <td>3.215074</td>\n",
       "      <td>-0.029721</td>\n",
       "      <td>0.086552</td>\n",
       "    </tr>\n",
       "    <tr>\n",
       "      <th>AEE</th>\n",
       "      <td>15.287016</td>\n",
       "      <td>-0.350543</td>\n",
       "      <td>0.239242</td>\n",
       "    </tr>\n",
       "    <tr>\n",
       "      <th>AAL</th>\n",
       "      <td>-17.619304</td>\n",
       "      <td>0.167490</td>\n",
       "      <td>0.100934</td>\n",
       "    </tr>\n",
       "    <tr>\n",
       "      <th>AEP</th>\n",
       "      <td>1.607883</td>\n",
       "      <td>-0.302575</td>\n",
       "      <td>0.167263</td>\n",
       "    </tr>\n",
       "    <tr>\n",
       "      <th>const</th>\n",
       "      <td>-0.023439</td>\n",
       "      <td>0.004427</td>\n",
       "      <td>-0.000482</td>\n",
       "    </tr>\n",
       "  </tbody>\n",
       "</table>\n",
       "</div>"
      ],
      "text/plain": [
       "           brent       int       bei\n",
       "MMM    -7.184110  0.032418 -0.031088\n",
       "AOS    -1.697174  0.054657  0.030267\n",
       "ABT   -11.989577  0.379356  0.195580\n",
       "ABBV   -0.147495  0.022441  0.089674\n",
       "ACN   -11.245968  0.006100  0.286177\n",
       "ADM    37.577152  0.387400  0.193286\n",
       "ADBE   -3.987478  0.059330 -0.076384\n",
       "ADP    11.867232  0.132379  0.167775\n",
       "AES     5.100902 -0.284589  0.177329\n",
       "AFL    -0.059490  1.023418  0.358499\n",
       "A     -14.076321 -0.322675 -0.438457\n",
       "ABNB   10.525314 -0.021393  0.017847\n",
       "APD    -7.234357 -0.348120 -0.311744\n",
       "AKAM   -6.087319 -0.390111  0.059223\n",
       "ALK     2.545532 -0.049108 -0.130316\n",
       "ALB    12.500615  0.177573  0.185369\n",
       "ARE     4.788470 -0.549440 -0.168812\n",
       "ALGN   -6.071035 -0.205313 -0.259721\n",
       "ALLE    6.551902 -0.507560 -0.104131\n",
       "LNT   -23.740833 -0.471787 -0.539113\n",
       "ALL    14.397655  0.265322 -0.032994\n",
       "GOOGL  50.439642 -0.314956  0.240363\n",
       "GOOG  -38.448942  0.441678  0.074559\n",
       "MO     17.069683  0.377257  0.382589\n",
       "AMZN   -0.767913 -0.001749  0.046850\n",
       "AMCR  -12.293683 -0.125711 -0.105696\n",
       "AMD     3.215074 -0.029721  0.086552\n",
       "AEE    15.287016 -0.350543  0.239242\n",
       "AAL   -17.619304  0.167490  0.100934\n",
       "AEP     1.607883 -0.302575  0.167263\n",
       "const  -0.023439  0.004427 -0.000482"
      ]
     },
     "execution_count": 110,
     "metadata": {},
     "output_type": "execute_result"
    }
   ],
   "source": [
    "betas"
   ]
  },
  {
   "cell_type": "code",
   "execution_count": 112,
   "id": "518b0990-0080-41e5-a3f8-2857afc15b39",
   "metadata": {
    "tags": []
   },
   "outputs": [
    {
     "data": {
      "text/html": [
       "<div>\n",
       "<style scoped>\n",
       "    .dataframe tbody tr th:only-of-type {\n",
       "        vertical-align: middle;\n",
       "    }\n",
       "\n",
       "    .dataframe tbody tr th {\n",
       "        vertical-align: top;\n",
       "    }\n",
       "\n",
       "    .dataframe thead th {\n",
       "        text-align: right;\n",
       "    }\n",
       "</style>\n",
       "<table border=\"1\" class=\"dataframe\">\n",
       "  <thead>\n",
       "    <tr style=\"text-align: right;\">\n",
       "      <th></th>\n",
       "      <th>MMM</th>\n",
       "      <th>AOS</th>\n",
       "      <th>ABT</th>\n",
       "      <th>ABBV</th>\n",
       "      <th>ACN</th>\n",
       "      <th>ADM</th>\n",
       "      <th>ADBE</th>\n",
       "      <th>ADP</th>\n",
       "      <th>AES</th>\n",
       "      <th>AFL</th>\n",
       "      <th>...</th>\n",
       "      <th>GOOGL</th>\n",
       "      <th>GOOG</th>\n",
       "      <th>MO</th>\n",
       "      <th>AMZN</th>\n",
       "      <th>AMCR</th>\n",
       "      <th>AMD</th>\n",
       "      <th>AEE</th>\n",
       "      <th>AAL</th>\n",
       "      <th>AEP</th>\n",
       "      <th>const</th>\n",
       "    </tr>\n",
       "  </thead>\n",
       "  <tbody>\n",
       "    <tr>\n",
       "      <th>brent</th>\n",
       "      <td>-7.184110</td>\n",
       "      <td>-1.697174</td>\n",
       "      <td>-11.989577</td>\n",
       "      <td>-0.147495</td>\n",
       "      <td>-11.245968</td>\n",
       "      <td>37.577152</td>\n",
       "      <td>-3.987478</td>\n",
       "      <td>11.867232</td>\n",
       "      <td>5.100902</td>\n",
       "      <td>-0.059490</td>\n",
       "      <td>...</td>\n",
       "      <td>50.439642</td>\n",
       "      <td>-38.448942</td>\n",
       "      <td>17.069683</td>\n",
       "      <td>-0.767913</td>\n",
       "      <td>-12.293683</td>\n",
       "      <td>3.215074</td>\n",
       "      <td>15.287016</td>\n",
       "      <td>-17.619304</td>\n",
       "      <td>1.607883</td>\n",
       "      <td>-0.023439</td>\n",
       "    </tr>\n",
       "    <tr>\n",
       "      <th>int</th>\n",
       "      <td>0.032418</td>\n",
       "      <td>0.054657</td>\n",
       "      <td>0.379356</td>\n",
       "      <td>0.022441</td>\n",
       "      <td>0.006100</td>\n",
       "      <td>0.387400</td>\n",
       "      <td>0.059330</td>\n",
       "      <td>0.132379</td>\n",
       "      <td>-0.284589</td>\n",
       "      <td>1.023418</td>\n",
       "      <td>...</td>\n",
       "      <td>-0.314956</td>\n",
       "      <td>0.441678</td>\n",
       "      <td>0.377257</td>\n",
       "      <td>-0.001749</td>\n",
       "      <td>-0.125711</td>\n",
       "      <td>-0.029721</td>\n",
       "      <td>-0.350543</td>\n",
       "      <td>0.167490</td>\n",
       "      <td>-0.302575</td>\n",
       "      <td>0.004427</td>\n",
       "    </tr>\n",
       "    <tr>\n",
       "      <th>bei</th>\n",
       "      <td>-0.031088</td>\n",
       "      <td>0.030267</td>\n",
       "      <td>0.195580</td>\n",
       "      <td>0.089674</td>\n",
       "      <td>0.286177</td>\n",
       "      <td>0.193286</td>\n",
       "      <td>-0.076384</td>\n",
       "      <td>0.167775</td>\n",
       "      <td>0.177329</td>\n",
       "      <td>0.358499</td>\n",
       "      <td>...</td>\n",
       "      <td>0.240363</td>\n",
       "      <td>0.074559</td>\n",
       "      <td>0.382589</td>\n",
       "      <td>0.046850</td>\n",
       "      <td>-0.105696</td>\n",
       "      <td>0.086552</td>\n",
       "      <td>0.239242</td>\n",
       "      <td>0.100934</td>\n",
       "      <td>0.167263</td>\n",
       "      <td>-0.000482</td>\n",
       "    </tr>\n",
       "  </tbody>\n",
       "</table>\n",
       "<p>3 rows × 31 columns</p>\n",
       "</div>"
      ],
      "text/plain": [
       "            MMM       AOS        ABT      ABBV        ACN        ADM  \\\n",
       "brent -7.184110 -1.697174 -11.989577 -0.147495 -11.245968  37.577152   \n",
       "int    0.032418  0.054657   0.379356  0.022441   0.006100   0.387400   \n",
       "bei   -0.031088  0.030267   0.195580  0.089674   0.286177   0.193286   \n",
       "\n",
       "           ADBE        ADP       AES       AFL  ...      GOOGL       GOOG  \\\n",
       "brent -3.987478  11.867232  5.100902 -0.059490  ...  50.439642 -38.448942   \n",
       "int    0.059330   0.132379 -0.284589  1.023418  ...  -0.314956   0.441678   \n",
       "bei   -0.076384   0.167775  0.177329  0.358499  ...   0.240363   0.074559   \n",
       "\n",
       "              MO      AMZN       AMCR       AMD        AEE        AAL  \\\n",
       "brent  17.069683 -0.767913 -12.293683  3.215074  15.287016 -17.619304   \n",
       "int     0.377257 -0.001749  -0.125711 -0.029721  -0.350543   0.167490   \n",
       "bei     0.382589  0.046850  -0.105696  0.086552   0.239242   0.100934   \n",
       "\n",
       "            AEP     const  \n",
       "brent  1.607883 -0.023439  \n",
       "int   -0.302575  0.004427  \n",
       "bei    0.167263 -0.000482  \n",
       "\n",
       "[3 rows x 31 columns]"
      ]
     },
     "execution_count": 112,
     "metadata": {},
     "output_type": "execute_result"
    }
   ],
   "source": [
    "transposed_betas = betas.transpose()\n",
    "\n",
    "# Or you can use the .T attribute\n",
    "#transposed_betas = betas.T\n",
    "\n",
    "# Display the transposed DataFrame\n",
    "transposed_betas"
   ]
  },
  {
   "cell_type": "code",
   "execution_count": 41,
   "id": "e850f4bb-f511-4aba-bf0a-b70bc83ceb3f",
   "metadata": {
    "tags": []
   },
   "outputs": [],
   "source": [
    "idx = list(set(factors.index).intersection(stocks.index))\n",
    "\n",
    "u_t = stocks.loc[idx].apply(lambda x: x - x.mean() - factors.loc[idx] @ betas.loc[x.name]).copy()\n",
    "Σ_T = u_t.cov()\n",
    "# Σ_T = np.array(np.sum([u_t.iloc[i] @ u_t.iloc[i].transpose() for i in range(0, len(u_t))]) * 1 / len(u_t)).reshape((1,1))\n",
    "\n",
    "B = betas.drop('const').values"
   ]
  },
  {
   "cell_type": "code",
   "execution_count": 42,
   "id": "f268481a-7113-462f-9713-cfebd55ff970",
   "metadata": {
    "tags": []
   },
   "outputs": [
    {
     "data": {
      "text/plain": [
       "array([[-7.18411008e+00,  3.24176654e-02, -3.10877093e-02],\n",
       "       [-1.69717380e+00,  5.46570622e-02,  3.02670533e-02],\n",
       "       [-1.19895773e+01,  3.79355742e-01,  1.95579601e-01],\n",
       "       [-1.47495093e-01,  2.24408104e-02,  8.96736901e-02],\n",
       "       [-1.12459677e+01,  6.10013884e-03,  2.86177075e-01],\n",
       "       [ 3.75771524e+01,  3.87399647e-01,  1.93285581e-01],\n",
       "       [-3.98747753e+00,  5.93295879e-02, -7.63837045e-02],\n",
       "       [ 1.18672319e+01,  1.32378920e-01,  1.67774865e-01],\n",
       "       [ 5.10090164e+00, -2.84588601e-01,  1.77328745e-01],\n",
       "       [-5.94899955e-02,  1.02341756e+00,  3.58498916e-01],\n",
       "       [-1.40763214e+01, -3.22674886e-01, -4.38457064e-01],\n",
       "       [ 1.05253139e+01, -2.13934197e-02,  1.78465729e-02],\n",
       "       [-7.23435658e+00, -3.48120121e-01, -3.11744262e-01],\n",
       "       [-6.08731879e+00, -3.90111020e-01,  5.92234428e-02],\n",
       "       [ 2.54553219e+00, -4.91082867e-02, -1.30316171e-01],\n",
       "       [ 1.25006152e+01,  1.77573258e-01,  1.85368517e-01],\n",
       "       [ 4.78847022e+00, -5.49440294e-01, -1.68812375e-01],\n",
       "       [-6.07103543e+00, -2.05313323e-01, -2.59721273e-01],\n",
       "       [ 6.55190150e+00, -5.07559639e-01, -1.04130760e-01],\n",
       "       [-2.37408330e+01, -4.71786894e-01, -5.39113233e-01],\n",
       "       [ 1.43976551e+01,  2.65322163e-01, -3.29935285e-02],\n",
       "       [ 5.04396422e+01, -3.14955879e-01,  2.40362619e-01],\n",
       "       [-3.84489416e+01,  4.41677531e-01,  7.45585299e-02],\n",
       "       [ 1.70696830e+01,  3.77256548e-01,  3.82588828e-01],\n",
       "       [-7.67912944e-01, -1.74890647e-03,  4.68501787e-02],\n",
       "       [-1.22936827e+01, -1.25710940e-01, -1.05696171e-01],\n",
       "       [ 3.21507430e+00, -2.97211197e-02,  8.65524377e-02],\n",
       "       [ 1.52870157e+01, -3.50542778e-01,  2.39242130e-01],\n",
       "       [-1.76193043e+01,  1.67489880e-01,  1.00934129e-01],\n",
       "       [ 1.60788279e+00, -3.02575278e-01,  1.67262702e-01]])"
      ]
     },
     "execution_count": 42,
     "metadata": {},
     "output_type": "execute_result"
    }
   ],
   "source": [
    "B"
   ]
  },
  {
   "cell_type": "markdown",
   "id": "ad5655f7-ecf5-4d18-b003-984ea7dd93b5",
   "metadata": {},
   "source": [
    "## Estimation of the Lambda Coefficients"
   ]
  },
  {
   "cell_type": "markdown",
   "id": "a05973fc-a150-4cba-b072-9df32ec18215",
   "metadata": {},
   "source": [
    "Finally, we wish to calculate the market price of these risk factors, the $λ_k$. By regressing the historical means $\\hat{E(R_j)} - \\hat{ρ}$ on the beta coefficients we estimatd above we obtain the $λ_k$ parameters for our 30-stock portfolio. $\\tilde{λ_1}$,...,$\\tilde{λ_K}$ denote the estimates of the $λ_k$ parameters obtained by using the feasible generalised least squares:\n",
    "$$\n",
    "\\tilde{λ} = (\\hat{B}'\\hat{Σ_T}^{-1}\\hat{B})'\\hat{B}'\\hat{Σ_T}^{-1}(\\hat{E(R)} - \\hat{ρ}e)\n",
    "$$\n"
   ]
  },
  {
   "cell_type": "code",
   "execution_count": 43,
   "id": "fda9b3e9-1434-4e88-850a-b6632287b616",
   "metadata": {
    "tags": []
   },
   "outputs": [],
   "source": [
    "λ = (B.transpose() @ np.linalg.inv(Σ_T) @ B).transpose() @ B.transpose() @ np.linalg.inv(Σ_T) @ hist_mean_rets\n",
    "\n",
    "λ.index = factors.columns\n",
    "λ.columns = ['lambda']"
   ]
  },
  {
   "cell_type": "code",
   "execution_count": 44,
   "id": "f7632caa-2eb8-4d9b-9180-5b677bc1e746",
   "metadata": {
    "tags": []
   },
   "outputs": [
    {
     "data": {
      "text/html": [
       "<div>\n",
       "<style scoped>\n",
       "    .dataframe tbody tr th:only-of-type {\n",
       "        vertical-align: middle;\n",
       "    }\n",
       "\n",
       "    .dataframe tbody tr th {\n",
       "        vertical-align: top;\n",
       "    }\n",
       "\n",
       "    .dataframe thead th {\n",
       "        text-align: right;\n",
       "    }\n",
       "</style>\n",
       "<table border=\"1\" class=\"dataframe\">\n",
       "  <thead>\n",
       "    <tr style=\"text-align: right;\">\n",
       "      <th></th>\n",
       "      <th>brent</th>\n",
       "      <th>int</th>\n",
       "      <th>bei</th>\n",
       "    </tr>\n",
       "    <tr>\n",
       "      <th>date</th>\n",
       "      <th></th>\n",
       "      <th></th>\n",
       "      <th></th>\n",
       "    </tr>\n",
       "  </thead>\n",
       "  <tbody>\n",
       "    <tr>\n",
       "      <th>2020-01-03</th>\n",
       "      <td>2.030063</td>\n",
       "      <td>-0.080000</td>\n",
       "      <td>-0.030000</td>\n",
       "    </tr>\n",
       "    <tr>\n",
       "      <th>2020-01-06</th>\n",
       "      <td>1.133615</td>\n",
       "      <td>-0.002198</td>\n",
       "      <td>-0.020509</td>\n",
       "    </tr>\n",
       "    <tr>\n",
       "      <th>2020-01-07</th>\n",
       "      <td>-1.312243</td>\n",
       "      <td>0.019142</td>\n",
       "      <td>-0.010286</td>\n",
       "    </tr>\n",
       "    <tr>\n",
       "      <th>2020-01-08</th>\n",
       "      <td>-1.308471</td>\n",
       "      <td>0.039998</td>\n",
       "      <td>0.009472</td>\n",
       "    </tr>\n",
       "    <tr>\n",
       "      <th>2020-01-09</th>\n",
       "      <td>-1.154016</td>\n",
       "      <td>-0.017940</td>\n",
       "      <td>-0.009283</td>\n",
       "    </tr>\n",
       "    <tr>\n",
       "      <th>...</th>\n",
       "      <td>...</td>\n",
       "      <td>...</td>\n",
       "      <td>...</td>\n",
       "    </tr>\n",
       "    <tr>\n",
       "      <th>2022-12-22</th>\n",
       "      <td>-0.904957</td>\n",
       "      <td>0.006289</td>\n",
       "      <td>-0.074202</td>\n",
       "    </tr>\n",
       "    <tr>\n",
       "      <th>2022-12-23</th>\n",
       "      <td>3.461669</td>\n",
       "      <td>0.085980</td>\n",
       "      <td>0.000716</td>\n",
       "    </tr>\n",
       "    <tr>\n",
       "      <th>2022-12-28</th>\n",
       "      <td>-0.763592</td>\n",
       "      <td>0.044757</td>\n",
       "      <td>0.020976</td>\n",
       "    </tr>\n",
       "    <tr>\n",
       "      <th>2022-12-29</th>\n",
       "      <td>-0.913942</td>\n",
       "      <td>-0.045063</td>\n",
       "      <td>-0.009348</td>\n",
       "    </tr>\n",
       "    <tr>\n",
       "      <th>2022-12-30</th>\n",
       "      <td>1.836420</td>\n",
       "      <td>0.057184</td>\n",
       "      <td>0.029233</td>\n",
       "    </tr>\n",
       "  </tbody>\n",
       "</table>\n",
       "<p>735 rows × 3 columns</p>\n",
       "</div>"
      ],
      "text/plain": [
       "               brent       int       bei\n",
       "date                                    \n",
       "2020-01-03  2.030063 -0.080000 -0.030000\n",
       "2020-01-06  1.133615 -0.002198 -0.020509\n",
       "2020-01-07 -1.312243  0.019142 -0.010286\n",
       "2020-01-08 -1.308471  0.039998  0.009472\n",
       "2020-01-09 -1.154016 -0.017940 -0.009283\n",
       "...              ...       ...       ...\n",
       "2022-12-22 -0.904957  0.006289 -0.074202\n",
       "2022-12-23  3.461669  0.085980  0.000716\n",
       "2022-12-28 -0.763592  0.044757  0.020976\n",
       "2022-12-29 -0.913942 -0.045063 -0.009348\n",
       "2022-12-30  1.836420  0.057184  0.029233\n",
       "\n",
       "[735 rows x 3 columns]"
      ]
     },
     "execution_count": 44,
     "metadata": {},
     "output_type": "execute_result"
    }
   ],
   "source": [
    "factors"
   ]
  },
  {
   "cell_type": "markdown",
   "id": "6cc7931d-6f09-4498-ad9d-f8b1a243d08f",
   "metadata": {},
   "source": [
    "As can be seen, the risk premium associated with the petrol factor is very small. The λ for the interest rate factor is large and postive. The factor is therefore seen by the market as a positive source of risk yielding a positive risk premium and investors require higher returns for holding assets that are subject to the risk of higher interest rates.\n",
    "\n",
    "The lambda for the inflationary surprise factor is negative however. The negative risk premium implies that the market demands a lower expected return for holding assets that may be positively correlated with the inflationary risk factor. Investors may be willing to accept lower expected returns for assets that act as a hedge against surprise inflation. As mentioned above, the nature of many of the firms in our 30-stock portfolio makes them more immune to inflationary surprises because they are technology firms. Hence, the negative lambda could indicate our portfolio as a suitable hedge against inflationary surprises."
   ]
  },
  {
   "cell_type": "code",
   "execution_count": 45,
   "id": "5c7a8c50-245a-4d33-b4bb-12d988d82057",
   "metadata": {
    "tags": []
   },
   "outputs": [
    {
     "data": {
      "text/html": [
       "<div>\n",
       "<style scoped>\n",
       "    .dataframe tbody tr th:only-of-type {\n",
       "        vertical-align: middle;\n",
       "    }\n",
       "\n",
       "    .dataframe tbody tr th {\n",
       "        vertical-align: top;\n",
       "    }\n",
       "\n",
       "    .dataframe thead th {\n",
       "        text-align: right;\n",
       "    }\n",
       "</style>\n",
       "<table border=\"1\" class=\"dataframe\">\n",
       "  <thead>\n",
       "    <tr style=\"text-align: right;\">\n",
       "      <th></th>\n",
       "      <th>lambda</th>\n",
       "    </tr>\n",
       "  </thead>\n",
       "  <tbody>\n",
       "    <tr>\n",
       "      <th>brent</th>\n",
       "      <td>2.181855</td>\n",
       "    </tr>\n",
       "    <tr>\n",
       "      <th>int</th>\n",
       "      <td>274.007650</td>\n",
       "    </tr>\n",
       "    <tr>\n",
       "      <th>bei</th>\n",
       "      <td>-527.016981</td>\n",
       "    </tr>\n",
       "  </tbody>\n",
       "</table>\n",
       "</div>"
      ],
      "text/plain": [
       "           lambda\n",
       "brent    2.181855\n",
       "int    274.007650\n",
       "bei   -527.016981"
      ]
     },
     "execution_count": 45,
     "metadata": {},
     "output_type": "execute_result"
    }
   ],
   "source": [
    "λ"
   ]
  },
  {
   "cell_type": "code",
   "execution_count": 46,
   "id": "751fcaf5-48c7-49e3-b68b-521bfbf2abb5",
   "metadata": {
    "tags": []
   },
   "outputs": [
    {
     "data": {
      "text/html": [
       "<div>\n",
       "<style scoped>\n",
       "    .dataframe tbody tr th:only-of-type {\n",
       "        vertical-align: middle;\n",
       "    }\n",
       "\n",
       "    .dataframe tbody tr th {\n",
       "        vertical-align: top;\n",
       "    }\n",
       "\n",
       "    .dataframe thead th {\n",
       "        text-align: right;\n",
       "    }\n",
       "</style>\n",
       "<table border=\"1\" class=\"dataframe\">\n",
       "  <thead>\n",
       "    <tr style=\"text-align: right;\">\n",
       "      <th></th>\n",
       "      <th>brent</th>\n",
       "      <th>int</th>\n",
       "      <th>bei</th>\n",
       "    </tr>\n",
       "  </thead>\n",
       "  <tbody>\n",
       "    <tr>\n",
       "      <th>brent</th>\n",
       "      <td>4.760491</td>\n",
       "      <td>597.844947</td>\n",
       "      <td>-1149.874605</td>\n",
       "    </tr>\n",
       "    <tr>\n",
       "      <th>int</th>\n",
       "      <td>597.844947</td>\n",
       "      <td>75080.192525</td>\n",
       "      <td>-144406.684692</td>\n",
       "    </tr>\n",
       "    <tr>\n",
       "      <th>bei</th>\n",
       "      <td>-1149.874605</td>\n",
       "      <td>-144406.684692</td>\n",
       "      <td>277746.898115</td>\n",
       "    </tr>\n",
       "  </tbody>\n",
       "</table>\n",
       "</div>"
      ],
      "text/plain": [
       "             brent            int            bei\n",
       "brent     4.760491     597.844947   -1149.874605\n",
       "int     597.844947   75080.192525 -144406.684692\n",
       "bei   -1149.874605 -144406.684692  277746.898115"
      ]
     },
     "execution_count": 46,
     "metadata": {},
     "output_type": "execute_result"
    }
   ],
   "source": [
    "λ @ λ.transpose()"
   ]
  },
  {
   "cell_type": "code",
   "execution_count": 47,
   "id": "b52c421f-2264-4994-bc0d-230c864173bf",
   "metadata": {
    "tags": []
   },
   "outputs": [
    {
     "data": {
      "text/html": [
       "<div>\n",
       "<style scoped>\n",
       "    .dataframe tbody tr th:only-of-type {\n",
       "        vertical-align: middle;\n",
       "    }\n",
       "\n",
       "    .dataframe tbody tr th {\n",
       "        vertical-align: top;\n",
       "    }\n",
       "\n",
       "    .dataframe thead th {\n",
       "        text-align: right;\n",
       "    }\n",
       "</style>\n",
       "<table border=\"1\" class=\"dataframe\">\n",
       "  <thead>\n",
       "    <tr style=\"text-align: right;\">\n",
       "      <th></th>\n",
       "      <th>0</th>\n",
       "    </tr>\n",
       "  </thead>\n",
       "  <tbody>\n",
       "    <tr>\n",
       "      <th>lambda</th>\n",
       "      <td>-423.828827</td>\n",
       "    </tr>\n",
       "  </tbody>\n",
       "</table>\n",
       "</div>"
      ],
      "text/plain": [
       "                 0\n",
       "lambda -423.828827"
      ]
     },
     "execution_count": 47,
     "metadata": {},
     "output_type": "execute_result"
    }
   ],
   "source": [
    "(hist_mean_rets.values - B @ λ).transpose() @ np.linalg.inv(Σ_T) @ hist_mean_rets.values"
   ]
  },
  {
   "cell_type": "code",
   "execution_count": 48,
   "id": "6a44e653-b25c-40be-b6f8-79081dc3ea7b",
   "metadata": {
    "tags": []
   },
   "outputs": [
    {
     "data": {
      "text/plain": [
       "array([[-1.31109319e+17,  4.53244304e+16,  2.30273655e+16, ...,\n",
       "         2.13037603e+17,  9.49548554e+15,  3.45949368e+16],\n",
       "       [-1.20858992e+17,  8.67843607e+16, -4.77642710e+15, ...,\n",
       "         1.70256732e+17,  7.27105160e+16,  4.59557124e+15],\n",
       "       [ 8.92435895e+16, -2.73156997e+16,  4.50505878e+16, ...,\n",
       "        -2.38949787e+17, -8.94390274e+16,  5.17652027e+16],\n",
       "       ...,\n",
       "       [-5.54875224e+16, -6.77581458e+15,  3.11302075e+16, ...,\n",
       "         7.54628085e+16, -2.35777054e+16,  6.13984739e+15],\n",
       "       [ 1.25698785e+16,  9.08711256e+15, -7.98908706e+15, ...,\n",
       "        -6.24953302e+15,  2.12005576e+16, -3.70263502e+15],\n",
       "       [ 3.40011479e+15,  3.33639417e+14,  7.75743097e+15, ...,\n",
       "         3.07997650e+15,  3.11052233e+15,  3.87822587e+15]])"
      ]
     },
     "execution_count": 48,
     "metadata": {},
     "output_type": "execute_result"
    }
   ],
   "source": [
    "np.linalg.inv(factors @ factors.transpose() / len(u_t))"
   ]
  },
  {
   "cell_type": "code",
   "execution_count": 49,
   "id": "b3af72d0-5d7b-4e35-b1f2-304b1af16729",
   "metadata": {
    "tags": []
   },
   "outputs": [
    {
     "data": {
      "text/html": [
       "<table class=\"simpletable\">\n",
       "<caption>Generalized Linear Model Regression Results</caption>\n",
       "<tr>\n",
       "  <th>Dep. Variable:</th>           <td>y</td>        <th>  No. Observations:  </th>  <td>    30</td> \n",
       "</tr>\n",
       "<tr>\n",
       "  <th>Model:</th>                  <td>GLM</td>       <th>  Df Residuals:      </th>  <td>    29</td> \n",
       "</tr>\n",
       "<tr>\n",
       "  <th>Model Family:</th>        <td>Gaussian</td>     <th>  Df Model:          </th>  <td>     0</td> \n",
       "</tr>\n",
       "<tr>\n",
       "  <th>Link Function:</th>       <td>Identity</td>     <th>  Scale:             </th> <td> 0.11329</td>\n",
       "</tr>\n",
       "<tr>\n",
       "  <th>Method:</th>                <td>IRLS</td>       <th>  Log-Likelihood:    </th> <td> -9.3921</td>\n",
       "</tr>\n",
       "<tr>\n",
       "  <th>Date:</th>            <td>Mon, 27 Nov 2023</td> <th>  Deviance:          </th> <td>  3.2853</td>\n",
       "</tr>\n",
       "<tr>\n",
       "  <th>Time:</th>                <td>13:51:04</td>     <th>  Pearson chi2:      </th>  <td>  3.29</td> \n",
       "</tr>\n",
       "<tr>\n",
       "  <th>No. Iterations:</th>          <td>3</td>        <th>  Pseudo R-squ. (CS):</th>  <td>0.04268</td>\n",
       "</tr>\n",
       "<tr>\n",
       "  <th>Covariance Type:</th>     <td>nonrobust</td>    <th>                     </th>     <td> </td>   \n",
       "</tr>\n",
       "</table>\n",
       "<table class=\"simpletable\">\n",
       "<tr>\n",
       "   <td></td>     <th>coef</th>     <th>std err</th>      <th>z</th>      <th>P>|z|</th>  <th>[0.025</th>    <th>0.975]</th>  \n",
       "</tr>\n",
       "<tr>\n",
       "  <th>x1</th> <td>   65.0450</td> <td>   53.902</td> <td>    1.207</td> <td> 0.228</td> <td>  -40.600</td> <td>  170.690</td>\n",
       "</tr>\n",
       "</table>"
      ],
      "text/latex": [
       "\\begin{center}\n",
       "\\begin{tabular}{lclc}\n",
       "\\toprule\n",
       "\\textbf{Dep. Variable:}   &        y         & \\textbf{  No. Observations:  } &       30    \\\\\n",
       "\\textbf{Model:}           &       GLM        & \\textbf{  Df Residuals:      } &       29    \\\\\n",
       "\\textbf{Model Family:}    &     Gaussian     & \\textbf{  Df Model:          } &        0    \\\\\n",
       "\\textbf{Link Function:}   &     Identity     & \\textbf{  Scale:             } &   0.11329   \\\\\n",
       "\\textbf{Method:}          &       IRLS       & \\textbf{  Log-Likelihood:    } &   -9.3921   \\\\\n",
       "\\textbf{Date:}            & Mon, 27 Nov 2023 & \\textbf{  Deviance:          } &    3.2853   \\\\\n",
       "\\textbf{Time:}            &     13:51:04     & \\textbf{  Pearson chi2:      } &     3.29    \\\\\n",
       "\\textbf{No. Iterations:}  &        3         & \\textbf{  Pseudo R-squ. (CS):} &  0.04268    \\\\\n",
       "\\textbf{Covariance Type:} &    nonrobust     & \\textbf{                     } &             \\\\\n",
       "\\bottomrule\n",
       "\\end{tabular}\n",
       "\\begin{tabular}{lcccccc}\n",
       "            & \\textbf{coef} & \\textbf{std err} & \\textbf{z} & \\textbf{P$> |$z$|$} & \\textbf{[0.025} & \\textbf{0.975]}  \\\\\n",
       "\\midrule\n",
       "\\textbf{x1} &      65.0450  &       53.902     &     1.207  &         0.228        &      -40.600    &      170.690     \\\\\n",
       "\\bottomrule\n",
       "\\end{tabular}\n",
       "%\\caption{Generalized Linear Model Regression Results}\n",
       "\\end{center}"
      ],
      "text/plain": [
       "<class 'statsmodels.iolib.summary.Summary'>\n",
       "\"\"\"\n",
       "                 Generalized Linear Model Regression Results                  \n",
       "==============================================================================\n",
       "Dep. Variable:                      y   No. Observations:                   30\n",
       "Model:                            GLM   Df Residuals:                       29\n",
       "Model Family:                Gaussian   Df Model:                            0\n",
       "Link Function:               Identity   Scale:                         0.11329\n",
       "Method:                          IRLS   Log-Likelihood:                -9.3921\n",
       "Date:                Mon, 27 Nov 2023   Deviance:                       3.2853\n",
       "Time:                        13:51:04   Pearson chi2:                     3.29\n",
       "No. Iterations:                     3   Pseudo R-squ. (CS):            0.04268\n",
       "Covariance Type:            nonrobust                                         \n",
       "==============================================================================\n",
       "                 coef    std err          z      P>|z|      [0.025      0.975]\n",
       "------------------------------------------------------------------------------\n",
       "x1            65.0450     53.902      1.207      0.228     -40.600     170.690\n",
       "==============================================================================\n",
       "\"\"\""
      ]
     },
     "execution_count": 49,
     "metadata": {},
     "output_type": "execute_result"
    }
   ],
   "source": [
    "import statsmodels.api as sm\n",
    "y, X = pd.DataFrame(betas['int']).drop('const').values, pd.DataFrame(hist_mean_rets).values\n",
    "\n",
    "glm = sm.GLM(y, X).fit()\n",
    "glm.summary()"
   ]
  },
  {
   "cell_type": "markdown",
   "id": "1aca9589-a7ab-4d34-8331-af324de39a9d",
   "metadata": {},
   "source": [
    "## Introduction of Fama-French Factors"
   ]
  },
  {
   "cell_type": "markdown",
   "id": "d2107a4d-7660-43a4-84ab-b3ef55292806",
   "metadata": {},
   "source": [
    "Here we introduce the Eugene Fama's and Kenneth French's factors into the OLS regression of the 30 stocks from the S&P50 on our exogenous factors. Most of the beta coefficients are statistically different from zero. The coefficient for the $R_m - R_F$ factor is positive as one would expect. This requires that as the difference between the market rate of return and the risk free rate increases, in other words the market risk, investors require higher returns.\n",
    "\n",
    "HML also has a positive and significant coefficient, although it is much smaller in magnitude than the market risk factor. HML reflects historical performance difference between portfolios of value stocks (large HML) and growth stocks (low HML). A higher HML indicates that the value stocks have typically outperformed growth stocks. The positive beta estimate for this factor indicates that, on average, investors are rewarded with higher returns when value stocks outperform growth stocks.\n",
    "\n",
    "The factor for SMB is not significantly different from zero, suggesting that the risk factor is not priced into the market for our portfolio."
   ]
  },
  {
   "cell_type": "code",
   "execution_count": 50,
   "id": "14f8a447-e45a-4846-ac95-c65c174f395c",
   "metadata": {
    "tags": []
   },
   "outputs": [
    {
     "data": {
      "text/html": [
       "<table class=\"simpletable\">\n",
       "<caption>OLS Regression Results</caption>\n",
       "<tr>\n",
       "  <th>Dep. Variable:</th>          <td>sp500</td>      <th>  R-squared (uncentered):</th>      <td>   0.936</td> \n",
       "</tr>\n",
       "<tr>\n",
       "  <th>Model:</th>                   <td>OLS</td>       <th>  Adj. R-squared (uncentered):</th> <td>   0.935</td> \n",
       "</tr>\n",
       "<tr>\n",
       "  <th>Method:</th>             <td>Least Squares</td>  <th>  F-statistic:       </th>          <td>   1030.</td> \n",
       "</tr>\n",
       "<tr>\n",
       "  <th>Date:</th>             <td>Mon, 27 Nov 2023</td> <th>  Prob (F-statistic):</th>          <td>2.10e-290</td>\n",
       "</tr>\n",
       "<tr>\n",
       "  <th>Time:</th>                 <td>13:51:05</td>     <th>  Log-Likelihood:    </th>          <td>  466.32</td> \n",
       "</tr>\n",
       "<tr>\n",
       "  <th>No. Observations:</th>      <td>   502</td>      <th>  AIC:               </th>          <td>  -918.6</td> \n",
       "</tr>\n",
       "<tr>\n",
       "  <th>Df Residuals:</th>          <td>   495</td>      <th>  BIC:               </th>          <td>  -889.1</td> \n",
       "</tr>\n",
       "<tr>\n",
       "  <th>Df Model:</th>              <td>     7</td>      <th>                     </th>              <td> </td>    \n",
       "</tr>\n",
       "<tr>\n",
       "  <th>Covariance Type:</th>      <td>nonrobust</td>    <th>                     </th>              <td> </td>    \n",
       "</tr>\n",
       "</table>\n",
       "<table class=\"simpletable\">\n",
       "<tr>\n",
       "     <td></td>       <th>coef</th>     <th>std err</th>      <th>t</th>      <th>P>|t|</th>  <th>[0.025</th>    <th>0.975]</th>  \n",
       "</tr>\n",
       "<tr>\n",
       "  <th>Mkt-RF</th> <td>    0.2953</td> <td>    0.004</td> <td>   72.705</td> <td> 0.000</td> <td>    0.287</td> <td>    0.303</td>\n",
       "</tr>\n",
       "<tr>\n",
       "  <th>SMB</th>    <td>   -0.0078</td> <td>    0.006</td> <td>   -1.307</td> <td> 0.192</td> <td>   -0.019</td> <td>    0.004</td>\n",
       "</tr>\n",
       "<tr>\n",
       "  <th>HML</th>    <td>    0.0323</td> <td>    0.004</td> <td>    7.389</td> <td> 0.000</td> <td>    0.024</td> <td>    0.041</td>\n",
       "</tr>\n",
       "<tr>\n",
       "  <th>RF</th>     <td>   -0.3240</td> <td>    0.788</td> <td>   -0.411</td> <td> 0.681</td> <td>   -1.873</td> <td>    1.225</td>\n",
       "</tr>\n",
       "<tr>\n",
       "  <th>brent</th>  <td>   -0.0071</td> <td>    0.002</td> <td>   -3.703</td> <td> 0.000</td> <td>   -0.011</td> <td>   -0.003</td>\n",
       "</tr>\n",
       "<tr>\n",
       "  <th>int</th>    <td>   -0.3353</td> <td>    0.075</td> <td>   -4.487</td> <td> 0.000</td> <td>   -0.482</td> <td>   -0.188</td>\n",
       "</tr>\n",
       "<tr>\n",
       "  <th>bei</th>    <td>    0.0897</td> <td>    0.123</td> <td>    0.731</td> <td> 0.465</td> <td>   -0.152</td> <td>    0.331</td>\n",
       "</tr>\n",
       "</table>\n",
       "<table class=\"simpletable\">\n",
       "<tr>\n",
       "  <th>Omnibus:</th>       <td>10.610</td> <th>  Durbin-Watson:     </th> <td>   2.110</td>\n",
       "</tr>\n",
       "<tr>\n",
       "  <th>Prob(Omnibus):</th> <td> 0.005</td> <th>  Jarque-Bera (JB):  </th> <td>  15.980</td>\n",
       "</tr>\n",
       "<tr>\n",
       "  <th>Skew:</th>          <td>-0.150</td> <th>  Prob(JB):          </th> <td>0.000339</td>\n",
       "</tr>\n",
       "<tr>\n",
       "  <th>Kurtosis:</th>      <td> 3.821</td> <th>  Cond. No.          </th> <td>    455.</td>\n",
       "</tr>\n",
       "</table><br/><br/>Notes:<br/>[1] R² is computed without centering (uncentered) since the model does not contain a constant.<br/>[2] Standard Errors assume that the covariance matrix of the errors is correctly specified."
      ],
      "text/latex": [
       "\\begin{center}\n",
       "\\begin{tabular}{lclc}\n",
       "\\toprule\n",
       "\\textbf{Dep. Variable:}    &      sp500       & \\textbf{  R-squared (uncentered):}      &     0.936   \\\\\n",
       "\\textbf{Model:}            &       OLS        & \\textbf{  Adj. R-squared (uncentered):} &     0.935   \\\\\n",
       "\\textbf{Method:}           &  Least Squares   & \\textbf{  F-statistic:       }          &     1030.   \\\\\n",
       "\\textbf{Date:}             & Mon, 27 Nov 2023 & \\textbf{  Prob (F-statistic):}          & 2.10e-290   \\\\\n",
       "\\textbf{Time:}             &     13:51:05     & \\textbf{  Log-Likelihood:    }          &    466.32   \\\\\n",
       "\\textbf{No. Observations:} &         502      & \\textbf{  AIC:               }          &    -918.6   \\\\\n",
       "\\textbf{Df Residuals:}     &         495      & \\textbf{  BIC:               }          &    -889.1   \\\\\n",
       "\\textbf{Df Model:}         &           7      & \\textbf{                     }          &             \\\\\n",
       "\\textbf{Covariance Type:}  &    nonrobust     & \\textbf{                     }          &             \\\\\n",
       "\\bottomrule\n",
       "\\end{tabular}\n",
       "\\begin{tabular}{lcccccc}\n",
       "                & \\textbf{coef} & \\textbf{std err} & \\textbf{t} & \\textbf{P$> |$t$|$} & \\textbf{[0.025} & \\textbf{0.975]}  \\\\\n",
       "\\midrule\n",
       "\\textbf{Mkt-RF} &       0.2953  &        0.004     &    72.705  &         0.000        &        0.287    &        0.303     \\\\\n",
       "\\textbf{SMB}    &      -0.0078  &        0.006     &    -1.307  &         0.192        &       -0.019    &        0.004     \\\\\n",
       "\\textbf{HML}    &       0.0323  &        0.004     &     7.389  &         0.000        &        0.024    &        0.041     \\\\\n",
       "\\textbf{RF}     &      -0.3240  &        0.788     &    -0.411  &         0.681        &       -1.873    &        1.225     \\\\\n",
       "\\textbf{brent}  &      -0.0071  &        0.002     &    -3.703  &         0.000        &       -0.011    &       -0.003     \\\\\n",
       "\\textbf{int}    &      -0.3353  &        0.075     &    -4.487  &         0.000        &       -0.482    &       -0.188     \\\\\n",
       "\\textbf{bei}    &       0.0897  &        0.123     &     0.731  &         0.465        &       -0.152    &        0.331     \\\\\n",
       "\\bottomrule\n",
       "\\end{tabular}\n",
       "\\begin{tabular}{lclc}\n",
       "\\textbf{Omnibus:}       & 10.610 & \\textbf{  Durbin-Watson:     } &    2.110  \\\\\n",
       "\\textbf{Prob(Omnibus):} &  0.005 & \\textbf{  Jarque-Bera (JB):  } &   15.980  \\\\\n",
       "\\textbf{Skew:}          & -0.150 & \\textbf{  Prob(JB):          } & 0.000339  \\\\\n",
       "\\textbf{Kurtosis:}      &  3.821 & \\textbf{  Cond. No.          } &     455.  \\\\\n",
       "\\bottomrule\n",
       "\\end{tabular}\n",
       "%\\caption{OLS Regression Results}\n",
       "\\end{center}\n",
       "\n",
       "Notes: \\newline\n",
       " [1] R² is computed without centering (uncentered) since the model does not contain a constant. \\newline\n",
       " [2] Standard Errors assume that the covariance matrix of the errors is correctly specified."
      ],
      "text/plain": [
       "<class 'statsmodels.iolib.summary.Summary'>\n",
       "\"\"\"\n",
       "                                 OLS Regression Results                                \n",
       "=======================================================================================\n",
       "Dep. Variable:                  sp500   R-squared (uncentered):                   0.936\n",
       "Model:                            OLS   Adj. R-squared (uncentered):              0.935\n",
       "Method:                 Least Squares   F-statistic:                              1030.\n",
       "Date:                Mon, 27 Nov 2023   Prob (F-statistic):                   2.10e-290\n",
       "Time:                        13:51:05   Log-Likelihood:                          466.32\n",
       "No. Observations:                 502   AIC:                                     -918.6\n",
       "Df Residuals:                     495   BIC:                                     -889.1\n",
       "Df Model:                           7                                                  \n",
       "Covariance Type:            nonrobust                                                  \n",
       "==============================================================================\n",
       "                 coef    std err          t      P>|t|      [0.025      0.975]\n",
       "------------------------------------------------------------------------------\n",
       "Mkt-RF         0.2953      0.004     72.705      0.000       0.287       0.303\n",
       "SMB           -0.0078      0.006     -1.307      0.192      -0.019       0.004\n",
       "HML            0.0323      0.004      7.389      0.000       0.024       0.041\n",
       "RF            -0.3240      0.788     -0.411      0.681      -1.873       1.225\n",
       "brent         -0.0071      0.002     -3.703      0.000      -0.011      -0.003\n",
       "int           -0.3353      0.075     -4.487      0.000      -0.482      -0.188\n",
       "bei            0.0897      0.123      0.731      0.465      -0.152       0.331\n",
       "==============================================================================\n",
       "Omnibus:                       10.610   Durbin-Watson:                   2.110\n",
       "Prob(Omnibus):                  0.005   Jarque-Bera (JB):               15.980\n",
       "Skew:                          -0.150   Prob(JB):                     0.000339\n",
       "Kurtosis:                       3.821   Cond. No.                         455.\n",
       "==============================================================================\n",
       "\n",
       "Notes:\n",
       "[1] R² is computed without centering (uncentered) since the model does not contain a constant.\n",
       "[2] Standard Errors assume that the covariance matrix of the errors is correctly specified.\n",
       "\"\"\""
      ]
     },
     "execution_count": 50,
     "metadata": {},
     "output_type": "execute_result"
    }
   ],
   "source": [
    "X = ff_factors.join(factors).join(stocks.sum(axis=1).rename('sp500')).dropna()\n",
    "\n",
    "ols = OLS(X.sp500, X.drop('sp500', axis=1)).fit()\n",
    "ols.summary()"
   ]
  },
  {
   "cell_type": "markdown",
   "id": "0b91bc60-e525-4fcd-95f9-5ee98af90ce4",
   "metadata": {
    "tags": []
   },
   "source": [
    "# Sectoral Sub-Index"
   ]
  },
  {
   "cell_type": "markdown",
   "id": "42cb49ea-3655-4e76-be98-faacfbaa7eba",
   "metadata": {},
   "source": [
    "## Estimation of the beta coefficients"
   ]
  },
  {
   "cell_type": "markdown",
   "id": "4ced7d24-578e-443b-95f5-df7e03c1aae0",
   "metadata": {},
   "source": [
    "For the sectoral sub-index, we use the Dow Jones Utility Average (FRED, 2023). The DJUA tracks the performance of 15 large utility companies traded in the United States. The betas represent the sensitivity of an asset's returns to various systematic factors. Given the inelastic nature of utility companies, by virtue of their inelastic demand, we would expect the sentivities of the returns to be lower to the given risk factors compared to the S&P500. Indeed, many of the S&P500 companies are not directly affected by the petrol factor, for example, but the petrol factor captures the health of the economy in general and many of the 30 stocks we chose will have returns elastic to the health of the economy. Or rather, their returns are elastic to surprises in macroeconomic variables.\n",
    "\n",
    "Utility companies on the other hand are far less affected by the business cycles. Indeed, if construction or production slows, the demand for energy declines and the stock prices may reflect this. But for the most part, utility companies are more resilient to economic downturns or surprises in macroeconomic variables. We follow the same process for the 30 individual stocks of the S&P500 but for the single DJUA index to estimate the beta coefficients and the lambdas."
   ]
  },
  {
   "cell_type": "code",
   "execution_count": 51,
   "id": "08111088-b7c9-4652-85d6-02068b226683",
   "metadata": {
    "tags": []
   },
   "outputs": [],
   "source": [
    "reader = fred.FredReader(['DJUA'], start, end)\n",
    "_data = reader.read().dropna()\n",
    "_data.index.name = 'date'"
   ]
  },
  {
   "cell_type": "code",
   "execution_count": 52,
   "id": "5515ddd6-535b-4274-a73d-8197dbfb24d1",
   "metadata": {
    "tags": []
   },
   "outputs": [
    {
     "data": {
      "text/html": [
       "<div>\n",
       "<style scoped>\n",
       "    .dataframe tbody tr th:only-of-type {\n",
       "        vertical-align: middle;\n",
       "    }\n",
       "\n",
       "    .dataframe tbody tr th {\n",
       "        vertical-align: top;\n",
       "    }\n",
       "\n",
       "    .dataframe thead th {\n",
       "        text-align: right;\n",
       "    }\n",
       "</style>\n",
       "<table border=\"1\" class=\"dataframe\">\n",
       "  <thead>\n",
       "    <tr style=\"text-align: right;\">\n",
       "      <th></th>\n",
       "      <th>DJUA</th>\n",
       "    </tr>\n",
       "    <tr>\n",
       "      <th>date</th>\n",
       "      <th></th>\n",
       "    </tr>\n",
       "  </thead>\n",
       "  <tbody>\n",
       "    <tr>\n",
       "      <th>2020-01-02</th>\n",
       "      <td>866.82</td>\n",
       "    </tr>\n",
       "    <tr>\n",
       "      <th>2020-01-03</th>\n",
       "      <td>867.44</td>\n",
       "    </tr>\n",
       "    <tr>\n",
       "      <th>2020-01-06</th>\n",
       "      <td>870.03</td>\n",
       "    </tr>\n",
       "    <tr>\n",
       "      <th>2020-01-07</th>\n",
       "      <td>868.60</td>\n",
       "    </tr>\n",
       "    <tr>\n",
       "      <th>2020-01-08</th>\n",
       "      <td>868.91</td>\n",
       "    </tr>\n",
       "    <tr>\n",
       "      <th>...</th>\n",
       "      <td>...</td>\n",
       "    </tr>\n",
       "    <tr>\n",
       "      <th>2022-12-23</th>\n",
       "      <td>975.58</td>\n",
       "    </tr>\n",
       "    <tr>\n",
       "      <th>2022-12-27</th>\n",
       "      <td>982.37</td>\n",
       "    </tr>\n",
       "    <tr>\n",
       "      <th>2022-12-28</th>\n",
       "      <td>973.40</td>\n",
       "    </tr>\n",
       "    <tr>\n",
       "      <th>2022-12-29</th>\n",
       "      <td>977.83</td>\n",
       "    </tr>\n",
       "    <tr>\n",
       "      <th>2022-12-30</th>\n",
       "      <td>967.40</td>\n",
       "    </tr>\n",
       "  </tbody>\n",
       "</table>\n",
       "<p>756 rows × 1 columns</p>\n",
       "</div>"
      ],
      "text/plain": [
       "              DJUA\n",
       "date              \n",
       "2020-01-02  866.82\n",
       "2020-01-03  867.44\n",
       "2020-01-06  870.03\n",
       "2020-01-07  868.60\n",
       "2020-01-08  868.91\n",
       "...            ...\n",
       "2022-12-23  975.58\n",
       "2022-12-27  982.37\n",
       "2022-12-28  973.40\n",
       "2022-12-29  977.83\n",
       "2022-12-30  967.40\n",
       "\n",
       "[756 rows x 1 columns]"
      ]
     },
     "execution_count": 52,
     "metadata": {},
     "output_type": "execute_result"
    }
   ],
   "source": [
    "_data"
   ]
  },
  {
   "cell_type": "code",
   "execution_count": 53,
   "id": "521181e5-33e9-44b6-bae4-52b4a644c509",
   "metadata": {
    "tags": []
   },
   "outputs": [],
   "source": [
    "data = np.log(_data['DJUA']).diff().dropna()"
   ]
  },
  {
   "cell_type": "code",
   "execution_count": 54,
   "id": "8fd9c815-54c9-4942-ae5f-a496084b945b",
   "metadata": {
    "tags": []
   },
   "outputs": [
    {
     "data": {
      "text/plain": [
       "date\n",
       "2020-01-03    0.000715\n",
       "2020-01-06    0.002981\n",
       "2020-01-07   -0.001645\n",
       "2020-01-08    0.000357\n",
       "2020-01-09    0.004295\n",
       "                ...   \n",
       "2022-12-23    0.009620\n",
       "2022-12-27    0.006936\n",
       "2022-12-28   -0.009173\n",
       "2022-12-29    0.004541\n",
       "2022-12-30   -0.010724\n",
       "Name: DJUA, Length: 755, dtype: float64"
      ]
     },
     "execution_count": 54,
     "metadata": {},
     "output_type": "execute_result"
    }
   ],
   "source": [
    "data"
   ]
  },
  {
   "cell_type": "code",
   "execution_count": 55,
   "id": "68e09152-e42d-4591-a677-7f5d92958510",
   "metadata": {
    "tags": []
   },
   "outputs": [],
   "source": [
    "data = data.to_frame(name='DJUA')\n",
    "\n",
    "# Join the two DataFrames\n",
    "data = data.join(ff_factors)"
   ]
  },
  {
   "cell_type": "code",
   "execution_count": 56,
   "id": "64538e69-c916-4254-81f1-ffaf9752cacd",
   "metadata": {
    "tags": []
   },
   "outputs": [],
   "source": [
    "hist_mean_rets = data.mean().copy()\n",
    "hist_mean_rets = pd.DataFrame((hist_mean_rets - ρ_10y).rename('E_ret'))"
   ]
  },
  {
   "cell_type": "code",
   "execution_count": 57,
   "id": "1e3a3a28-fb4d-4490-b441-dcf9a977689c",
   "metadata": {
    "tags": []
   },
   "outputs": [
    {
     "data": {
      "text/html": [
       "<div>\n",
       "<style scoped>\n",
       "    .dataframe tbody tr th:only-of-type {\n",
       "        vertical-align: middle;\n",
       "    }\n",
       "\n",
       "    .dataframe tbody tr th {\n",
       "        vertical-align: top;\n",
       "    }\n",
       "\n",
       "    .dataframe thead th {\n",
       "        text-align: right;\n",
       "    }\n",
       "</style>\n",
       "<table border=\"1\" class=\"dataframe\">\n",
       "  <thead>\n",
       "    <tr style=\"text-align: right;\">\n",
       "      <th></th>\n",
       "      <th>E_ret</th>\n",
       "    </tr>\n",
       "  </thead>\n",
       "  <tbody>\n",
       "    <tr>\n",
       "      <th>DJUA</th>\n",
       "      <td>-0.000821</td>\n",
       "    </tr>\n",
       "    <tr>\n",
       "      <th>Mkt-RF</th>\n",
       "      <td>0.035617</td>\n",
       "    </tr>\n",
       "    <tr>\n",
       "      <th>SMB</th>\n",
       "      <td>0.005021</td>\n",
       "    </tr>\n",
       "    <tr>\n",
       "      <th>HML</th>\n",
       "      <td>0.019921</td>\n",
       "    </tr>\n",
       "    <tr>\n",
       "      <th>RF</th>\n",
       "      <td>0.001426</td>\n",
       "    </tr>\n",
       "  </tbody>\n",
       "</table>\n",
       "</div>"
      ],
      "text/plain": [
       "           E_ret\n",
       "DJUA   -0.000821\n",
       "Mkt-RF  0.035617\n",
       "SMB     0.005021\n",
       "HML     0.019921\n",
       "RF      0.001426"
      ]
     },
     "execution_count": 57,
     "metadata": {},
     "output_type": "execute_result"
    }
   ],
   "source": [
    "hist_mean_rets"
   ]
  },
  {
   "cell_type": "code",
   "execution_count": 58,
   "id": "89d150b3-3146-4ce2-adcf-4c6320d8c691",
   "metadata": {
    "tags": []
   },
   "outputs": [],
   "source": [
    "betas = {}\n",
    "errors = {}\n",
    "intercepts = {}\n",
    "for f in factors:\n",
    "    _ = factors[[f]].join(data).dropna().copy()\n",
    "    _['const'] = list([1] * len(_))\n",
    "    \n",
    "    ols = OLS(_[f], _.drop(f, axis=1)).fit()\n",
    "    \n",
    "    betas[f] = ols.params\n",
    "    errors[f] = ols.resid\n",
    "    intercepts[f] = ols.params['const']\n",
    "    \n",
    "betas = pd.DataFrame(betas)"
   ]
  },
  {
   "cell_type": "markdown",
   "id": "7d6fe824-d806-466f-a198-346568daaee2",
   "metadata": {},
   "source": [
    "The betas are again estimated by OLS. Because of the sector of the utility companies, you would perhaps expect the β for the brent factor to be higher than for the 30 S&P500 stocks we used above. However, this is not the case. The β for brent is -14.623 which is much lower (in absolute value) than for many of the stocks in the previous section. A possible explanation for this is that the utility firms forming the Dow Jones Utility Average index are inelastic to the economic condition by virtue of the inelasticity of their supply. The coefficient for interest rate surprises is also negative, suggesting the DJUA returns increase when this risk factor decreases. Additionally, the coefficient for inflationary surprise is also negative implying that returns are negatively correlated with risk of inflationary surprise: they move in different directions."
   ]
  },
  {
   "cell_type": "code",
   "execution_count": 59,
   "id": "453dfa37-cb86-451e-9c30-e52a2305cb5d",
   "metadata": {
    "tags": []
   },
   "outputs": [
    {
     "data": {
      "text/html": [
       "<div>\n",
       "<style scoped>\n",
       "    .dataframe tbody tr th:only-of-type {\n",
       "        vertical-align: middle;\n",
       "    }\n",
       "\n",
       "    .dataframe tbody tr th {\n",
       "        vertical-align: top;\n",
       "    }\n",
       "\n",
       "    .dataframe thead th {\n",
       "        text-align: right;\n",
       "    }\n",
       "</style>\n",
       "<table border=\"1\" class=\"dataframe\">\n",
       "  <thead>\n",
       "    <tr style=\"text-align: right;\">\n",
       "      <th></th>\n",
       "      <th>brent</th>\n",
       "      <th>int</th>\n",
       "      <th>bei</th>\n",
       "    </tr>\n",
       "  </thead>\n",
       "  <tbody>\n",
       "    <tr>\n",
       "      <th>DJUA</th>\n",
       "      <td>-14.622566</td>\n",
       "      <td>-0.886100</td>\n",
       "      <td>-0.308244</td>\n",
       "    </tr>\n",
       "    <tr>\n",
       "      <th>Mkt-RF</th>\n",
       "      <td>0.401089</td>\n",
       "      <td>0.012276</td>\n",
       "      <td>0.010581</td>\n",
       "    </tr>\n",
       "    <tr>\n",
       "      <th>SMB</th>\n",
       "      <td>-0.115563</td>\n",
       "      <td>-0.010333</td>\n",
       "      <td>-0.003114</td>\n",
       "    </tr>\n",
       "    <tr>\n",
       "      <th>HML</th>\n",
       "      <td>0.372485</td>\n",
       "      <td>0.016344</td>\n",
       "      <td>0.007568</td>\n",
       "    </tr>\n",
       "    <tr>\n",
       "      <th>RF</th>\n",
       "      <td>-51.868110</td>\n",
       "      <td>-0.114270</td>\n",
       "      <td>-0.544632</td>\n",
       "    </tr>\n",
       "    <tr>\n",
       "      <th>const</th>\n",
       "      <td>0.118587</td>\n",
       "      <td>0.002317</td>\n",
       "      <td>0.001413</td>\n",
       "    </tr>\n",
       "  </tbody>\n",
       "</table>\n",
       "</div>"
      ],
      "text/plain": [
       "            brent       int       bei\n",
       "DJUA   -14.622566 -0.886100 -0.308244\n",
       "Mkt-RF   0.401089  0.012276  0.010581\n",
       "SMB     -0.115563 -0.010333 -0.003114\n",
       "HML      0.372485  0.016344  0.007568\n",
       "RF     -51.868110 -0.114270 -0.544632\n",
       "const    0.118587  0.002317  0.001413"
      ]
     },
     "execution_count": 59,
     "metadata": {},
     "output_type": "execute_result"
    }
   ],
   "source": [
    "betas"
   ]
  },
  {
   "cell_type": "code",
   "execution_count": 60,
   "id": "110cf9cb-340e-49dc-8c51-a01208f5ddda",
   "metadata": {
    "tags": []
   },
   "outputs": [],
   "source": [
    "idx = list(set(factors.index).intersection(data.index))\n",
    "\n",
    "u_t = data.loc[idx].apply(lambda x: x - x.mean() - factors.loc[idx] @ betas.loc[x.name]).copy()\n",
    "Σ_T = u_t.cov()\n",
    "# Σ_T = np.array(np.sum([u_t.iloc[i] @ u_t.iloc[i].transpose() for i in range(0, len(u_t))]) * 1 / len(u_t)).reshape((1,1))\n",
    "\n",
    "B = betas.drop('const').values"
   ]
  },
  {
   "cell_type": "code",
   "execution_count": 61,
   "id": "f7a21bae-45b5-4144-b2a6-c1aa1187b170",
   "metadata": {
    "tags": []
   },
   "outputs": [
    {
     "data": {
      "text/plain": [
       "array([[-1.46225658e+01, -8.86100380e-01, -3.08243730e-01],\n",
       "       [ 4.01088981e-01,  1.22757638e-02,  1.05814380e-02],\n",
       "       [-1.15562934e-01, -1.03332782e-02, -3.11422891e-03],\n",
       "       [ 3.72484713e-01,  1.63441278e-02,  7.56800519e-03],\n",
       "       [-5.18681102e+01, -1.14269729e-01, -5.44631542e-01]])"
      ]
     },
     "execution_count": 61,
     "metadata": {},
     "output_type": "execute_result"
    }
   ],
   "source": [
    "B"
   ]
  },
  {
   "cell_type": "markdown",
   "id": "45ab490b-5428-4483-95f2-34180c9c090d",
   "metadata": {},
   "source": [
    "## Estimation of Lambda Coefficients"
   ]
  },
  {
   "cell_type": "code",
   "execution_count": 62,
   "id": "38b28b08-7b93-4854-a3ea-90be0e05fa7c",
   "metadata": {
    "tags": []
   },
   "outputs": [],
   "source": [
    "λ = (B.transpose() @ np.linalg.inv(Σ_T) @ B).transpose() @ B.transpose() @ np.linalg.inv(Σ_T) @ hist_mean_rets\n",
    "\n",
    "λ.index = factors.columns\n",
    "λ.columns = ['lambda']"
   ]
  },
  {
   "cell_type": "markdown",
   "id": "8473dcf3-5300-43fe-bb51-aaa72d4573b4",
   "metadata": {},
   "source": [
    "The most interesting changes between the S&P500 stocks and the Dow Jones Utility Average stocks is the sign of the lambdas. Now the lambda for the petrol factor is negative (but small) suggesting investors may be willing to accept lower returns on utility company stocks to hedge against oil price surprises. The lambda for the interest rate factor is very simlar in value to the S&P500 stocks, and it is likely that interest rate unpredictability, as a source of risk, impacts all stocks the same way regardless of sector. Finally, the lamda for inflationary surprises is now positive, suggesting investors demand higher expected returns for holding utility assets that are positively correlated with changes in inflation. They require compensation for holding utility company stocks that are subject to the risk of inflationary surprise. The magnitude of the lamda in absolute value is much lower than for the S&P500 stocks however."
   ]
  },
  {
   "cell_type": "code",
   "execution_count": 63,
   "id": "54d6e267-f270-4bee-9265-ab1a00272097",
   "metadata": {
    "tags": []
   },
   "outputs": [
    {
     "data": {
      "text/html": [
       "<div>\n",
       "<style scoped>\n",
       "    .dataframe tbody tr th:only-of-type {\n",
       "        vertical-align: middle;\n",
       "    }\n",
       "\n",
       "    .dataframe tbody tr th {\n",
       "        vertical-align: top;\n",
       "    }\n",
       "\n",
       "    .dataframe thead th {\n",
       "        text-align: right;\n",
       "    }\n",
       "</style>\n",
       "<table border=\"1\" class=\"dataframe\">\n",
       "  <thead>\n",
       "    <tr style=\"text-align: right;\">\n",
       "      <th></th>\n",
       "      <th>lambda</th>\n",
       "    </tr>\n",
       "  </thead>\n",
       "  <tbody>\n",
       "    <tr>\n",
       "      <th>brent</th>\n",
       "      <td>-0.493637</td>\n",
       "    </tr>\n",
       "    <tr>\n",
       "      <th>int</th>\n",
       "      <td>204.998812</td>\n",
       "    </tr>\n",
       "    <tr>\n",
       "      <th>bei</th>\n",
       "      <td>37.152267</td>\n",
       "    </tr>\n",
       "  </tbody>\n",
       "</table>\n",
       "</div>"
      ],
      "text/plain": [
       "           lambda\n",
       "brent   -0.493637\n",
       "int    204.998812\n",
       "bei     37.152267"
      ]
     },
     "execution_count": 63,
     "metadata": {},
     "output_type": "execute_result"
    }
   ],
   "source": [
    "λ"
   ]
  },
  {
   "cell_type": "code",
   "execution_count": 64,
   "id": "d3178aab-ba60-4c76-be7c-1568c7d24d32",
   "metadata": {
    "tags": []
   },
   "outputs": [
    {
     "data": {
      "text/html": [
       "<div>\n",
       "<style scoped>\n",
       "    .dataframe tbody tr th:only-of-type {\n",
       "        vertical-align: middle;\n",
       "    }\n",
       "\n",
       "    .dataframe tbody tr th {\n",
       "        vertical-align: top;\n",
       "    }\n",
       "\n",
       "    .dataframe thead th {\n",
       "        text-align: right;\n",
       "    }\n",
       "</style>\n",
       "<table border=\"1\" class=\"dataframe\">\n",
       "  <thead>\n",
       "    <tr style=\"text-align: right;\">\n",
       "      <th></th>\n",
       "      <th>brent</th>\n",
       "      <th>int</th>\n",
       "      <th>bei</th>\n",
       "    </tr>\n",
       "  </thead>\n",
       "  <tbody>\n",
       "    <tr>\n",
       "      <th>brent</th>\n",
       "      <td>0.243677</td>\n",
       "      <td>-101.194986</td>\n",
       "      <td>-18.339731</td>\n",
       "    </tr>\n",
       "    <tr>\n",
       "      <th>int</th>\n",
       "      <td>-101.194986</td>\n",
       "      <td>42024.512996</td>\n",
       "      <td>7616.170533</td>\n",
       "    </tr>\n",
       "    <tr>\n",
       "      <th>bei</th>\n",
       "      <td>-18.339731</td>\n",
       "      <td>7616.170533</td>\n",
       "      <td>1380.290917</td>\n",
       "    </tr>\n",
       "  </tbody>\n",
       "</table>\n",
       "</div>"
      ],
      "text/plain": [
       "            brent           int          bei\n",
       "brent    0.243677   -101.194986   -18.339731\n",
       "int   -101.194986  42024.512996  7616.170533\n",
       "bei    -18.339731   7616.170533  1380.290917"
      ]
     },
     "execution_count": 64,
     "metadata": {},
     "output_type": "execute_result"
    }
   ],
   "source": [
    "λ @ λ.transpose()"
   ]
  },
  {
   "cell_type": "code",
   "execution_count": 65,
   "id": "e7541c73-1cce-43f9-a913-74a5e01883b3",
   "metadata": {
    "tags": []
   },
   "outputs": [
    {
     "data": {
      "text/html": [
       "<div>\n",
       "<style scoped>\n",
       "    .dataframe tbody tr th:only-of-type {\n",
       "        vertical-align: middle;\n",
       "    }\n",
       "\n",
       "    .dataframe tbody tr th {\n",
       "        vertical-align: top;\n",
       "    }\n",
       "\n",
       "    .dataframe thead th {\n",
       "        text-align: right;\n",
       "    }\n",
       "</style>\n",
       "<table border=\"1\" class=\"dataframe\">\n",
       "  <thead>\n",
       "    <tr style=\"text-align: right;\">\n",
       "      <th></th>\n",
       "      <th>0</th>\n",
       "    </tr>\n",
       "  </thead>\n",
       "  <tbody>\n",
       "    <tr>\n",
       "      <th>lambda</th>\n",
       "      <td>-141.987676</td>\n",
       "    </tr>\n",
       "  </tbody>\n",
       "</table>\n",
       "</div>"
      ],
      "text/plain": [
       "                 0\n",
       "lambda -141.987676"
      ]
     },
     "execution_count": 65,
     "metadata": {},
     "output_type": "execute_result"
    }
   ],
   "source": [
    "(hist_mean_rets.values - B @ λ).transpose() @ np.linalg.inv(Σ_T) @ hist_mean_rets.values"
   ]
  },
  {
   "cell_type": "code",
   "execution_count": 66,
   "id": "37095165-dc6e-4625-a201-fb6c1f687748",
   "metadata": {
    "tags": []
   },
   "outputs": [
    {
     "data": {
      "text/plain": [
       "array([[ 1.14580306e+16,  7.43980867e+16,  6.53711958e+16, ...,\n",
       "         8.25861852e+16,  1.26631577e+16,  5.55791932e+16],\n",
       "       [ 2.40880657e+17,  1.09583653e+18, -2.65063895e+17, ...,\n",
       "        -7.02182357e+17,  4.12377386e+16,  1.85597192e+17],\n",
       "       [ 2.01586017e+17,  1.80573577e+18,  9.42520406e+16, ...,\n",
       "        -1.84038176e+17, -2.65018783e+17,  4.36698835e+17],\n",
       "       ...,\n",
       "       [ 4.17578646e+15, -1.20879083e+17,  2.73342827e+16, ...,\n",
       "         5.32805039e+16,  1.60543154e+16, -2.92038170e+16],\n",
       "       [-6.55684574e+16, -4.34946435e+17, -9.89112223e+15, ...,\n",
       "         1.36425679e+17,  1.10023931e+17, -1.19175938e+17],\n",
       "       [-2.86928346e+15, -2.18221879e+16, -6.55755546e+15, ...,\n",
       "        -2.20257105e+16,  1.30880406e+16, -1.87645490e+16]])"
      ]
     },
     "execution_count": 66,
     "metadata": {},
     "output_type": "execute_result"
    }
   ],
   "source": [
    "np.linalg.inv(factors @ factors.transpose() / len(u_t))"
   ]
  },
  {
   "cell_type": "code",
   "execution_count": 67,
   "id": "46d1728b-50d3-4bb5-af03-38ebe6df6f0c",
   "metadata": {
    "tags": []
   },
   "outputs": [
    {
     "data": {
      "text/html": [
       "<table class=\"simpletable\">\n",
       "<caption>Generalized Linear Model Regression Results</caption>\n",
       "<tr>\n",
       "  <th>Dep. Variable:</th>           <td>y</td>        <th>  No. Observations:  </th>  <td>     5</td> \n",
       "</tr>\n",
       "<tr>\n",
       "  <th>Model:</th>                  <td>GLM</td>       <th>  Df Residuals:      </th>  <td>     4</td> \n",
       "</tr>\n",
       "<tr>\n",
       "  <th>Model Family:</th>        <td>Gaussian</td>     <th>  Df Model:          </th>  <td>     0</td> \n",
       "</tr>\n",
       "<tr>\n",
       "  <th>Link Function:</th>       <td>Identity</td>     <th>  Scale:             </th> <td> 0.19945</td>\n",
       "</tr>\n",
       "<tr>\n",
       "  <th>Method:</th>                <td>IRLS</td>       <th>  Log-Likelihood:    </th> <td> -2.5063</td>\n",
       "</tr>\n",
       "<tr>\n",
       "  <th>Date:</th>            <td>Mon, 27 Nov 2023</td> <th>  Deviance:          </th> <td> 0.79780</td>\n",
       "</tr>\n",
       "<tr>\n",
       "  <th>Time:</th>                <td>13:51:15</td>     <th>  Pearson chi2:      </th>  <td> 0.798</td> \n",
       "</tr>\n",
       "<tr>\n",
       "  <th>No. Iterations:</th>          <td>3</td>        <th>  Pseudo R-squ. (CS):</th>  <td>-0.1845</td>\n",
       "</tr>\n",
       "<tr>\n",
       "  <th>Covariance Type:</th>     <td>nonrobust</td>    <th>                     </th>     <td> </td>   \n",
       "</tr>\n",
       "</table>\n",
       "<table class=\"simpletable\">\n",
       "<tr>\n",
       "   <td></td>     <th>coef</th>     <th>std err</th>      <th>z</th>      <th>P>|z|</th>  <th>[0.025</th>    <th>0.975]</th>  \n",
       "</tr>\n",
       "<tr>\n",
       "  <th>x1</th> <td>    0.7531</td> <td>   10.853</td> <td>    0.069</td> <td> 0.945</td> <td>  -20.518</td> <td>   22.024</td>\n",
       "</tr>\n",
       "</table>"
      ],
      "text/latex": [
       "\\begin{center}\n",
       "\\begin{tabular}{lclc}\n",
       "\\toprule\n",
       "\\textbf{Dep. Variable:}   &        y         & \\textbf{  No. Observations:  } &        5    \\\\\n",
       "\\textbf{Model:}           &       GLM        & \\textbf{  Df Residuals:      } &        4    \\\\\n",
       "\\textbf{Model Family:}    &     Gaussian     & \\textbf{  Df Model:          } &        0    \\\\\n",
       "\\textbf{Link Function:}   &     Identity     & \\textbf{  Scale:             } &   0.19945   \\\\\n",
       "\\textbf{Method:}          &       IRLS       & \\textbf{  Log-Likelihood:    } &   -2.5063   \\\\\n",
       "\\textbf{Date:}            & Mon, 27 Nov 2023 & \\textbf{  Deviance:          } &   0.79780   \\\\\n",
       "\\textbf{Time:}            &     13:51:15     & \\textbf{  Pearson chi2:      } &    0.798    \\\\\n",
       "\\textbf{No. Iterations:}  &        3         & \\textbf{  Pseudo R-squ. (CS):} &  -0.1845    \\\\\n",
       "\\textbf{Covariance Type:} &    nonrobust     & \\textbf{                     } &             \\\\\n",
       "\\bottomrule\n",
       "\\end{tabular}\n",
       "\\begin{tabular}{lcccccc}\n",
       "            & \\textbf{coef} & \\textbf{std err} & \\textbf{z} & \\textbf{P$> |$z$|$} & \\textbf{[0.025} & \\textbf{0.975]}  \\\\\n",
       "\\midrule\n",
       "\\textbf{x1} &       0.7531  &       10.853     &     0.069  &         0.945        &      -20.518    &       22.024     \\\\\n",
       "\\bottomrule\n",
       "\\end{tabular}\n",
       "%\\caption{Generalized Linear Model Regression Results}\n",
       "\\end{center}"
      ],
      "text/plain": [
       "<class 'statsmodels.iolib.summary.Summary'>\n",
       "\"\"\"\n",
       "                 Generalized Linear Model Regression Results                  \n",
       "==============================================================================\n",
       "Dep. Variable:                      y   No. Observations:                    5\n",
       "Model:                            GLM   Df Residuals:                        4\n",
       "Model Family:                Gaussian   Df Model:                            0\n",
       "Link Function:               Identity   Scale:                         0.19945\n",
       "Method:                          IRLS   Log-Likelihood:                -2.5063\n",
       "Date:                Mon, 27 Nov 2023   Deviance:                      0.79780\n",
       "Time:                        13:51:15   Pearson chi2:                    0.798\n",
       "No. Iterations:                     3   Pseudo R-squ. (CS):            -0.1845\n",
       "Covariance Type:            nonrobust                                         \n",
       "==============================================================================\n",
       "                 coef    std err          z      P>|z|      [0.025      0.975]\n",
       "------------------------------------------------------------------------------\n",
       "x1             0.7531     10.853      0.069      0.945     -20.518      22.024\n",
       "==============================================================================\n",
       "\"\"\""
      ]
     },
     "execution_count": 67,
     "metadata": {},
     "output_type": "execute_result"
    }
   ],
   "source": [
    "import statsmodels.api as sm\n",
    "y, X = pd.DataFrame(betas['int']).drop('const').values, pd.DataFrame(hist_mean_rets).values\n",
    "\n",
    "glm = sm.GLM(y, X).fit()\n",
    "glm.summary()"
   ]
  },
  {
   "cell_type": "markdown",
   "id": "414e8405-d512-4d54-a24f-dbed4849d114",
   "metadata": {},
   "source": [
    "## Introduction of Fama-French factors"
   ]
  },
  {
   "cell_type": "markdown",
   "id": "fad94765-ed25-41a8-8119-8f8d8bc5296e",
   "metadata": {},
   "source": [
    "Here we introduce the Eugene Fama's and Kenneth French's factors into the OLS regression for the sectoral sub-index of American utility companies. All of the beta coefficients except the petrol factor and the inflationary surprise factor are significantly different from zero.\n",
    "\n",
    "\n",
    "Most of the beta coefficients are statistically different from zero. The coefficient for the $R_m - R_F$ factor is positive as one would expect. This requires that as the difference between the market rate of return and the risk free rate increases, in other words the market risk, expected returns should increase in an almost 1:1 fashion.\n",
    "\n",
    "Like with the S&P500 stocks, both HML and $R_m - R_F$ are positive, indicating a reward for increases in these risk factors. Additionally, the factor for SMB is statistically significant. SMB measures the outperformance of small-cap companies compared to big-cap firms. Historically, small-cap companies see higher returns than big-cap companies, hence the positive beta coefficient and the almost 1:1 sensitivity of the DJUA index's return to this SMB risk factor.\n",
    "\n",
    "Comparing to the S&P500 stocks, we see an increase in the beta for the market risk factor, a negative SMB and a decrease in HML. Overall, the coefficients tend to be larger for the utility companies, especially for the Fama-French factors, but lower for the exogenous factors that we constructed such as the petrol factor, the interest rate factor and the surprise inflation factor. This suggests that the returns of the DJUA are more sensitive to market fundamentals and less sensitive to surprises in macroeconomic variables."
   ]
  },
  {
   "cell_type": "code",
   "execution_count": 113,
   "id": "74651d9d-993a-4a0e-a06d-ebd5fd57fcf3",
   "metadata": {
    "tags": []
   },
   "outputs": [],
   "source": [
    "X = ff_factors.join(factors).join(data.sum(axis=1).rename('DJUA')).dropna()"
   ]
  },
  {
   "cell_type": "code",
   "execution_count": 74,
   "id": "532b55f5-4c33-41e0-90c5-e7e37c56b9e7",
   "metadata": {
    "tags": []
   },
   "outputs": [
    {
     "data": {
      "text/html": [
       "<table class=\"simpletable\">\n",
       "<caption>OLS Regression Results</caption>\n",
       "<tr>\n",
       "  <th>Dep. Variable:</th>          <td>DJUA</td>       <th>  R-squared (uncentered):</th>      <td>   1.000</td> \n",
       "</tr>\n",
       "<tr>\n",
       "  <th>Model:</th>                   <td>OLS</td>       <th>  Adj. R-squared (uncentered):</th> <td>   1.000</td> \n",
       "</tr>\n",
       "<tr>\n",
       "  <th>Method:</th>             <td>Least Squares</td>  <th>  F-statistic:       </th>          <td>4.765e+06</td>\n",
       "</tr>\n",
       "<tr>\n",
       "  <th>Date:</th>             <td>Mon, 27 Nov 2023</td> <th>  Prob (F-statistic):</th>           <td>  0.00</td>  \n",
       "</tr>\n",
       "<tr>\n",
       "  <th>Time:</th>                 <td>14:26:55</td>     <th>  Log-Likelihood:    </th>          <td>  2268.0</td> \n",
       "</tr>\n",
       "<tr>\n",
       "  <th>No. Observations:</th>      <td>   735</td>      <th>  AIC:               </th>          <td>  -4522.</td> \n",
       "</tr>\n",
       "<tr>\n",
       "  <th>Df Residuals:</th>          <td>   728</td>      <th>  BIC:               </th>          <td>  -4490.</td> \n",
       "</tr>\n",
       "<tr>\n",
       "  <th>Df Model:</th>              <td>     7</td>      <th>                     </th>              <td> </td>    \n",
       "</tr>\n",
       "<tr>\n",
       "  <th>Covariance Type:</th>      <td>nonrobust</td>    <th>                     </th>              <td> </td>    \n",
       "</tr>\n",
       "</table>\n",
       "<table class=\"simpletable\">\n",
       "<tr>\n",
       "     <td></td>       <th>coef</th>     <th>std err</th>      <th>t</th>      <th>P>|t|</th>  <th>[0.025</th>    <th>0.975]</th>  \n",
       "</tr>\n",
       "<tr>\n",
       "  <th>Mkt-RF</th> <td>    1.0081</td> <td>    0.000</td> <td> 3731.506</td> <td> 0.000</td> <td>    1.008</td> <td>    1.009</td>\n",
       "</tr>\n",
       "<tr>\n",
       "  <th>SMB</th>    <td>    0.9953</td> <td>    0.001</td> <td> 1931.300</td> <td> 0.000</td> <td>    0.994</td> <td>    0.996</td>\n",
       "</tr>\n",
       "<tr>\n",
       "  <th>HML</th>    <td>    1.0028</td> <td>    0.000</td> <td> 3053.280</td> <td> 0.000</td> <td>    1.002</td> <td>    1.003</td>\n",
       "</tr>\n",
       "<tr>\n",
       "  <th>RF</th>     <td>    1.0058</td> <td>    0.085</td> <td>   11.824</td> <td> 0.000</td> <td>    0.839</td> <td>    1.173</td>\n",
       "</tr>\n",
       "<tr>\n",
       "  <th>brent</th>  <td>   -0.0003</td> <td>    0.000</td> <td>   -1.489</td> <td> 0.137</td> <td>   -0.001</td> <td> 9.43e-05</td>\n",
       "</tr>\n",
       "<tr>\n",
       "  <th>int</th>    <td>   -0.0324</td> <td>    0.007</td> <td>   -4.361</td> <td> 0.000</td> <td>   -0.047</td> <td>   -0.018</td>\n",
       "</tr>\n",
       "<tr>\n",
       "  <th>bei</th>    <td>   -0.0085</td> <td>    0.011</td> <td>   -0.766</td> <td> 0.444</td> <td>   -0.030</td> <td>    0.013</td>\n",
       "</tr>\n",
       "</table>\n",
       "<table class=\"simpletable\">\n",
       "<tr>\n",
       "  <th>Omnibus:</th>       <td>136.447</td> <th>  Durbin-Watson:     </th> <td>   1.973</td>\n",
       "</tr>\n",
       "<tr>\n",
       "  <th>Prob(Omnibus):</th> <td> 0.000</td>  <th>  Jarque-Bera (JB):  </th> <td>1740.471</td>\n",
       "</tr>\n",
       "<tr>\n",
       "  <th>Skew:</th>          <td> 0.400</td>  <th>  Prob(JB):          </th> <td>    0.00</td>\n",
       "</tr>\n",
       "<tr>\n",
       "  <th>Kurtosis:</th>      <td>10.496</td>  <th>  Cond. No.          </th> <td>    483.</td>\n",
       "</tr>\n",
       "</table><br/><br/>Notes:<br/>[1] R² is computed without centering (uncentered) since the model does not contain a constant.<br/>[2] Standard Errors assume that the covariance matrix of the errors is correctly specified."
      ],
      "text/latex": [
       "\\begin{center}\n",
       "\\begin{tabular}{lclc}\n",
       "\\toprule\n",
       "\\textbf{Dep. Variable:}    &       DJUA       & \\textbf{  R-squared (uncentered):}      &     1.000   \\\\\n",
       "\\textbf{Model:}            &       OLS        & \\textbf{  Adj. R-squared (uncentered):} &     1.000   \\\\\n",
       "\\textbf{Method:}           &  Least Squares   & \\textbf{  F-statistic:       }          & 4.765e+06   \\\\\n",
       "\\textbf{Date:}             & Mon, 27 Nov 2023 & \\textbf{  Prob (F-statistic):}          &     0.00    \\\\\n",
       "\\textbf{Time:}             &     14:26:55     & \\textbf{  Log-Likelihood:    }          &    2268.0   \\\\\n",
       "\\textbf{No. Observations:} &         735      & \\textbf{  AIC:               }          &    -4522.   \\\\\n",
       "\\textbf{Df Residuals:}     &         728      & \\textbf{  BIC:               }          &    -4490.   \\\\\n",
       "\\textbf{Df Model:}         &           7      & \\textbf{                     }          &             \\\\\n",
       "\\textbf{Covariance Type:}  &    nonrobust     & \\textbf{                     }          &             \\\\\n",
       "\\bottomrule\n",
       "\\end{tabular}\n",
       "\\begin{tabular}{lcccccc}\n",
       "                & \\textbf{coef} & \\textbf{std err} & \\textbf{t} & \\textbf{P$> |$t$|$} & \\textbf{[0.025} & \\textbf{0.975]}  \\\\\n",
       "\\midrule\n",
       "\\textbf{Mkt-RF} &       1.0081  &        0.000     &  3731.506  &         0.000        &        1.008    &        1.009     \\\\\n",
       "\\textbf{SMB}    &       0.9953  &        0.001     &  1931.300  &         0.000        &        0.994    &        0.996     \\\\\n",
       "\\textbf{HML}    &       1.0028  &        0.000     &  3053.280  &         0.000        &        1.002    &        1.003     \\\\\n",
       "\\textbf{RF}     &       1.0058  &        0.085     &    11.824  &         0.000        &        0.839    &        1.173     \\\\\n",
       "\\textbf{brent}  &      -0.0003  &        0.000     &    -1.489  &         0.137        &       -0.001    &     9.43e-05     \\\\\n",
       "\\textbf{int}    &      -0.0324  &        0.007     &    -4.361  &         0.000        &       -0.047    &       -0.018     \\\\\n",
       "\\textbf{bei}    &      -0.0085  &        0.011     &    -0.766  &         0.444        &       -0.030    &        0.013     \\\\\n",
       "\\bottomrule\n",
       "\\end{tabular}\n",
       "\\begin{tabular}{lclc}\n",
       "\\textbf{Omnibus:}       & 136.447 & \\textbf{  Durbin-Watson:     } &    1.973  \\\\\n",
       "\\textbf{Prob(Omnibus):} &   0.000 & \\textbf{  Jarque-Bera (JB):  } & 1740.471  \\\\\n",
       "\\textbf{Skew:}          &   0.400 & \\textbf{  Prob(JB):          } &     0.00  \\\\\n",
       "\\textbf{Kurtosis:}      &  10.496 & \\textbf{  Cond. No.          } &     483.  \\\\\n",
       "\\bottomrule\n",
       "\\end{tabular}\n",
       "%\\caption{OLS Regression Results}\n",
       "\\end{center}\n",
       "\n",
       "Notes: \\newline\n",
       " [1] R² is computed without centering (uncentered) since the model does not contain a constant. \\newline\n",
       " [2] Standard Errors assume that the covariance matrix of the errors is correctly specified."
      ],
      "text/plain": [
       "<class 'statsmodels.iolib.summary.Summary'>\n",
       "\"\"\"\n",
       "                                 OLS Regression Results                                \n",
       "=======================================================================================\n",
       "Dep. Variable:                   DJUA   R-squared (uncentered):                   1.000\n",
       "Model:                            OLS   Adj. R-squared (uncentered):              1.000\n",
       "Method:                 Least Squares   F-statistic:                          4.765e+06\n",
       "Date:                Mon, 27 Nov 2023   Prob (F-statistic):                        0.00\n",
       "Time:                        14:26:55   Log-Likelihood:                          2268.0\n",
       "No. Observations:                 735   AIC:                                     -4522.\n",
       "Df Residuals:                     728   BIC:                                     -4490.\n",
       "Df Model:                           7                                                  \n",
       "Covariance Type:            nonrobust                                                  \n",
       "==============================================================================\n",
       "                 coef    std err          t      P>|t|      [0.025      0.975]\n",
       "------------------------------------------------------------------------------\n",
       "Mkt-RF         1.0081      0.000   3731.506      0.000       1.008       1.009\n",
       "SMB            0.9953      0.001   1931.300      0.000       0.994       0.996\n",
       "HML            1.0028      0.000   3053.280      0.000       1.002       1.003\n",
       "RF             1.0058      0.085     11.824      0.000       0.839       1.173\n",
       "brent         -0.0003      0.000     -1.489      0.137      -0.001    9.43e-05\n",
       "int           -0.0324      0.007     -4.361      0.000      -0.047      -0.018\n",
       "bei           -0.0085      0.011     -0.766      0.444      -0.030       0.013\n",
       "==============================================================================\n",
       "Omnibus:                      136.447   Durbin-Watson:                   1.973\n",
       "Prob(Omnibus):                  0.000   Jarque-Bera (JB):             1740.471\n",
       "Skew:                           0.400   Prob(JB):                         0.00\n",
       "Kurtosis:                      10.496   Cond. No.                         483.\n",
       "==============================================================================\n",
       "\n",
       "Notes:\n",
       "[1] R² is computed without centering (uncentered) since the model does not contain a constant.\n",
       "[2] Standard Errors assume that the covariance matrix of the errors is correctly specified.\n",
       "\"\"\""
      ]
     },
     "execution_count": 74,
     "metadata": {},
     "output_type": "execute_result"
    }
   ],
   "source": [
    "ols = OLS(X.DJUA, X.drop('DJUA', axis=1)).fit()\n",
    "ols.summary()"
   ]
  },
  {
   "cell_type": "markdown",
   "id": "47804484-d857-4fe8-8752-b859e9381eb0",
   "metadata": {},
   "source": [
    "# Conclusion"
   ]
  },
  {
   "cell_type": "markdown",
   "id": "210b90ff-166c-4c81-b820-b2a3f5a82049",
   "metadata": {},
   "source": [
    "To conclude, we have estimated a factorial model including exogenous and endogenous factors based on Ross' (1976) arbitrage pricing theory. We have used data from both the S&P500 stocks and a sectoral sub-index, the Dow Jones Utility Average index, to estimate the multibeta relationship and the corresponding market price of the different risk factors, introducing. We have elaborated on the differences observed in both the signs and the magnitudes of the lamdas and betas for the different sectors and introduced the Fama-French factors from Kenneth French's database."
   ]
  },
  {
   "cell_type": "markdown",
   "id": "afd28dc9-a033-4fd8-a71b-1d5fc4e2f0ea",
   "metadata": {
    "tags": []
   },
   "source": [
    "# References"
   ]
  },
  {
   "cell_type": "markdown",
   "id": "71ae7fa4-7ecd-422b-b544-d6f4d2a39341",
   "metadata": {},
   "source": [
    "Brooks, C., 2019. Introductory econometrics for finance. Cambridge university press.\n",
    "\n",
    "Campbell, J.Y., Lo, A.W., MacKinlay, A.C. and Whitelaw, R.F., 1998. The econometrics of financial markets. Macroeconomic Dynamics.\n",
    "\n",
    "French, K.R. (2023) Kenneth R. French - data library. Available at: https://mba.tuck.dartmouth.edu/pages/faculty/ken.french/data_library.html (Accessed: 25 November 2023). \n",
    "\n",
    "FRED (2023) Market yield on U.S. Treasury securities at 10-year constant maturity, quoted on an investment basis, FRED. Available at: https://fred.stlouisfed.org/series/DGS10 (Accessed: 25 November 2023). \n",
    "\n",
    "FRED (2023a) Crude oil prices: Brent - Europe, FRED. Available at: https://fred.stlouisfed.org/series/DCOILBRENTEU (Accessed: 25 November 2023). \n",
    "\n",
    "FRED (2023c) Market yield on U.S. Treasury securities at 10-year constant maturity, quoted on an investment basis, inflation-indexed, FRED. Available at: https://fred.stlouisfed.org/series/DFII10 (Accessed: 25 November 2023). \n",
    "\n",
    "FRED (2023d) Dow Jones utility average, FRED. Available at: https://fred.stlouisfed.org/series/DJUA (Accessed: 26 November 2023). \n",
    "\n",
    "Stephen, R., 1976. The arbitrage theory of capital asset pricing. Journal of Economic Theory, 13(3), pp.341-360.\n",
    "\n",
    "Yahoo Finance (2023) Yahoo Finance - Stock Market Live, quotes, Business &amp; Finance News, Yahoo! Finance. Available at: https://finance.yahoo.com/ (Accessed: 25 November 2023). "
   ]
  },
  {
   "cell_type": "markdown",
   "id": "8defbfc3-6174-4019-a1db-871e353424d5",
   "metadata": {},
   "source": [
    "# Appendix of Codes and Supplementary Material"
   ]
  }
 ],
 "metadata": {
  "kernelspec": {
   "display_name": "Python 3 (ipykernel)",
   "language": "python",
   "name": "python3"
  },
  "language_info": {
   "codemirror_mode": {
    "name": "ipython",
    "version": 3
   },
   "file_extension": ".py",
   "mimetype": "text/x-python",
   "name": "python",
   "nbconvert_exporter": "python",
   "pygments_lexer": "ipython3",
   "version": "3.11.4"
  }
 },
 "nbformat": 4,
 "nbformat_minor": 5
}
